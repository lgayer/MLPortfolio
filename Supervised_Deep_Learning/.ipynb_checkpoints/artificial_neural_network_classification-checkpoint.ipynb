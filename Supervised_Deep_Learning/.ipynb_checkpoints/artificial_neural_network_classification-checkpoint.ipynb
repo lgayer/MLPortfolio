{
 "cells": [
  {
   "cell_type": "markdown",
   "metadata": {
    "colab_type": "text",
    "id": "lP6JLo1tGNBg"
   },
   "source": [
    "# Artificial Neural Network"
   ]
  },
  {
   "cell_type": "markdown",
   "metadata": {},
   "source": [
    "ANN to predict how likely a customer is of leaving a bank"
   ]
  },
  {
   "cell_type": "markdown",
   "metadata": {
    "colab_type": "text",
    "id": "gWZyYmS_UE_L"
   },
   "source": [
    "### Importing the libraries"
   ]
  },
  {
   "cell_type": "code",
   "execution_count": 2,
   "metadata": {},
   "outputs": [],
   "source": [
    "import numpy as np\n",
    "import pandas as pd\n",
    "import tensorflow as tf"
   ]
  },
  {
   "cell_type": "code",
   "execution_count": 3,
   "metadata": {},
   "outputs": [
    {
     "data": {
      "text/plain": [
       "'2.13.1'"
      ]
     },
     "execution_count": 3,
     "metadata": {},
     "output_type": "execute_result"
    }
   ],
   "source": [
    "tf.__version__"
   ]
  },
  {
   "cell_type": "markdown",
   "metadata": {
    "colab_type": "text",
    "id": "1E0Q3aoKUCRX"
   },
   "source": [
    "## Part 1 - Data Preprocessing"
   ]
  },
  {
   "cell_type": "markdown",
   "metadata": {
    "colab_type": "text",
    "id": "cKWAkFVGUU0Z"
   },
   "source": [
    "### Importing the dataset"
   ]
  },
  {
   "cell_type": "code",
   "execution_count": 8,
   "metadata": {},
   "outputs": [
    {
     "data": {
      "text/html": [
       "<div>\n",
       "<style scoped>\n",
       "    .dataframe tbody tr th:only-of-type {\n",
       "        vertical-align: middle;\n",
       "    }\n",
       "\n",
       "    .dataframe tbody tr th {\n",
       "        vertical-align: top;\n",
       "    }\n",
       "\n",
       "    .dataframe thead th {\n",
       "        text-align: right;\n",
       "    }\n",
       "</style>\n",
       "<table border=\"1\" class=\"dataframe\">\n",
       "  <thead>\n",
       "    <tr style=\"text-align: right;\">\n",
       "      <th></th>\n",
       "      <th>RowNumber</th>\n",
       "      <th>CustomerId</th>\n",
       "      <th>Surname</th>\n",
       "      <th>CreditScore</th>\n",
       "      <th>Geography</th>\n",
       "      <th>Gender</th>\n",
       "      <th>Age</th>\n",
       "      <th>Tenure</th>\n",
       "      <th>Balance</th>\n",
       "      <th>NumOfProducts</th>\n",
       "      <th>HasCrCard</th>\n",
       "      <th>IsActiveMember</th>\n",
       "      <th>EstimatedSalary</th>\n",
       "      <th>Exited</th>\n",
       "    </tr>\n",
       "  </thead>\n",
       "  <tbody>\n",
       "    <tr>\n",
       "      <th>0</th>\n",
       "      <td>1</td>\n",
       "      <td>15634602</td>\n",
       "      <td>Hargrave</td>\n",
       "      <td>619</td>\n",
       "      <td>France</td>\n",
       "      <td>Female</td>\n",
       "      <td>42</td>\n",
       "      <td>2</td>\n",
       "      <td>0.00</td>\n",
       "      <td>1</td>\n",
       "      <td>1</td>\n",
       "      <td>1</td>\n",
       "      <td>101348.88</td>\n",
       "      <td>1</td>\n",
       "    </tr>\n",
       "    <tr>\n",
       "      <th>1</th>\n",
       "      <td>2</td>\n",
       "      <td>15647311</td>\n",
       "      <td>Hill</td>\n",
       "      <td>608</td>\n",
       "      <td>Spain</td>\n",
       "      <td>Female</td>\n",
       "      <td>41</td>\n",
       "      <td>1</td>\n",
       "      <td>83807.86</td>\n",
       "      <td>1</td>\n",
       "      <td>0</td>\n",
       "      <td>1</td>\n",
       "      <td>112542.58</td>\n",
       "      <td>0</td>\n",
       "    </tr>\n",
       "    <tr>\n",
       "      <th>2</th>\n",
       "      <td>3</td>\n",
       "      <td>15619304</td>\n",
       "      <td>Onio</td>\n",
       "      <td>502</td>\n",
       "      <td>France</td>\n",
       "      <td>Female</td>\n",
       "      <td>42</td>\n",
       "      <td>8</td>\n",
       "      <td>159660.80</td>\n",
       "      <td>3</td>\n",
       "      <td>1</td>\n",
       "      <td>0</td>\n",
       "      <td>113931.57</td>\n",
       "      <td>1</td>\n",
       "    </tr>\n",
       "    <tr>\n",
       "      <th>3</th>\n",
       "      <td>4</td>\n",
       "      <td>15701354</td>\n",
       "      <td>Boni</td>\n",
       "      <td>699</td>\n",
       "      <td>France</td>\n",
       "      <td>Female</td>\n",
       "      <td>39</td>\n",
       "      <td>1</td>\n",
       "      <td>0.00</td>\n",
       "      <td>2</td>\n",
       "      <td>0</td>\n",
       "      <td>0</td>\n",
       "      <td>93826.63</td>\n",
       "      <td>0</td>\n",
       "    </tr>\n",
       "    <tr>\n",
       "      <th>4</th>\n",
       "      <td>5</td>\n",
       "      <td>15737888</td>\n",
       "      <td>Mitchell</td>\n",
       "      <td>850</td>\n",
       "      <td>Spain</td>\n",
       "      <td>Female</td>\n",
       "      <td>43</td>\n",
       "      <td>2</td>\n",
       "      <td>125510.82</td>\n",
       "      <td>1</td>\n",
       "      <td>1</td>\n",
       "      <td>1</td>\n",
       "      <td>79084.10</td>\n",
       "      <td>0</td>\n",
       "    </tr>\n",
       "  </tbody>\n",
       "</table>\n",
       "</div>"
      ],
      "text/plain": [
       "   RowNumber  CustomerId   Surname  CreditScore Geography  Gender  Age  \\\n",
       "0          1    15634602  Hargrave          619    France  Female   42   \n",
       "1          2    15647311      Hill          608     Spain  Female   41   \n",
       "2          3    15619304      Onio          502    France  Female   42   \n",
       "3          4    15701354      Boni          699    France  Female   39   \n",
       "4          5    15737888  Mitchell          850     Spain  Female   43   \n",
       "\n",
       "   Tenure    Balance  NumOfProducts  HasCrCard  IsActiveMember  \\\n",
       "0       2       0.00              1          1               1   \n",
       "1       1   83807.86              1          0               1   \n",
       "2       8  159660.80              3          1               0   \n",
       "3       1       0.00              2          0               0   \n",
       "4       2  125510.82              1          1               1   \n",
       "\n",
       "   EstimatedSalary  Exited  \n",
       "0        101348.88       1  \n",
       "1        112542.58       0  \n",
       "2        113931.57       1  \n",
       "3         93826.63       0  \n",
       "4         79084.10       0  "
      ]
     },
     "metadata": {},
     "output_type": "display_data"
    },
    {
     "data": {
      "text/plain": [
       "(10000, 14)"
      ]
     },
     "metadata": {},
     "output_type": "display_data"
    }
   ],
   "source": [
    "dataset = pd.read_csv('Data/Churn_Modelling.csv')\n",
    "display(dataset.head(), dataset.shape)"
   ]
  },
  {
   "cell_type": "code",
   "execution_count": 9,
   "metadata": {},
   "outputs": [],
   "source": [
    "X = dataset.iloc[:, 3:-1].values\n",
    "y = dataset.iloc[:, -1].values"
   ]
  },
  {
   "cell_type": "code",
   "execution_count": 10,
   "metadata": {},
   "outputs": [
    {
     "name": "stdout",
     "output_type": "stream",
     "text": [
      "[[619 'France' 'Female' 42 2 0.0 1 1 1 101348.88]\n",
      " [608 'Spain' 'Female' 41 1 83807.86 1 0 1 112542.58]\n",
      " [502 'France' 'Female' 42 8 159660.8 3 1 0 113931.57]\n",
      " [699 'France' 'Female' 39 1 0.0 2 0 0 93826.63]\n",
      " [850 'Spain' 'Female' 43 2 125510.82 1 1 1 79084.1]\n",
      " [645 'Spain' 'Male' 44 8 113755.78 2 1 0 149756.71]\n",
      " [822 'France' 'Male' 50 7 0.0 2 1 1 10062.8]\n",
      " [376 'Germany' 'Female' 29 4 115046.74 4 1 0 119346.88]\n",
      " [501 'France' 'Male' 44 4 142051.07 2 0 1 74940.5]\n",
      " [684 'France' 'Male' 27 2 134603.88 1 1 1 71725.73]]\n"
     ]
    }
   ],
   "source": [
    "print(X[0:10])"
   ]
  },
  {
   "cell_type": "code",
   "execution_count": 11,
   "metadata": {},
   "outputs": [
    {
     "name": "stdout",
     "output_type": "stream",
     "text": [
      "[1 0 1 0 0 1 0 1 0 0]\n"
     ]
    }
   ],
   "source": [
    "print(y[0:10])"
   ]
  },
  {
   "cell_type": "markdown",
   "metadata": {
    "colab_type": "text",
    "id": "N6bQ0UgSU-NJ"
   },
   "source": [
    "### Encoding categorical data"
   ]
  },
  {
   "cell_type": "markdown",
   "metadata": {
    "colab_type": "text",
    "id": "le5MJreAbW52"
   },
   "source": [
    "Label Encoding the \"Gender\" column"
   ]
  },
  {
   "cell_type": "code",
   "execution_count": 12,
   "metadata": {},
   "outputs": [],
   "source": [
    "from sklearn.preprocessing import LabelEncoder\n",
    "le = LabelEncoder()\n",
    "X[:, 2] = le.fit_transform(X[:, 2])"
   ]
  },
  {
   "cell_type": "code",
   "execution_count": 13,
   "metadata": {},
   "outputs": [
    {
     "name": "stdout",
     "output_type": "stream",
     "text": [
      "[[619 'France' 0 42 2 0.0 1 1 1 101348.88]\n",
      " [608 'Spain' 0 41 1 83807.86 1 0 1 112542.58]\n",
      " [502 'France' 0 42 8 159660.8 3 1 0 113931.57]\n",
      " [699 'France' 0 39 1 0.0 2 0 0 93826.63]\n",
      " [850 'Spain' 0 43 2 125510.82 1 1 1 79084.1]\n",
      " [645 'Spain' 1 44 8 113755.78 2 1 0 149756.71]\n",
      " [822 'France' 1 50 7 0.0 2 1 1 10062.8]\n",
      " [376 'Germany' 0 29 4 115046.74 4 1 0 119346.88]\n",
      " [501 'France' 1 44 4 142051.07 2 0 1 74940.5]\n",
      " [684 'France' 1 27 2 134603.88 1 1 1 71725.73]]\n"
     ]
    }
   ],
   "source": [
    "print(X[0:10])"
   ]
  },
  {
   "cell_type": "markdown",
   "metadata": {
    "colab_type": "text",
    "id": "CUxGZezpbMcb"
   },
   "source": [
    "One Hot Encoding the \"Geography\" column"
   ]
  },
  {
   "cell_type": "code",
   "execution_count": 14,
   "metadata": {},
   "outputs": [],
   "source": [
    "from sklearn.compose import ColumnTransformer\n",
    "from sklearn.preprocessing import OneHotEncoder\n",
    "ct = ColumnTransformer(transformers=[('encoder', OneHotEncoder(), [1])], remainder='passthrough')\n",
    "X = np.array(ct.fit_transform(X))"
   ]
  },
  {
   "cell_type": "code",
   "execution_count": 15,
   "metadata": {},
   "outputs": [
    {
     "name": "stdout",
     "output_type": "stream",
     "text": [
      "[[1.0 0.0 0.0 619 0 42 2 0.0 1 1 1 101348.88]\n",
      " [0.0 0.0 1.0 608 0 41 1 83807.86 1 0 1 112542.58]\n",
      " [1.0 0.0 0.0 502 0 42 8 159660.8 3 1 0 113931.57]\n",
      " [1.0 0.0 0.0 699 0 39 1 0.0 2 0 0 93826.63]\n",
      " [0.0 0.0 1.0 850 0 43 2 125510.82 1 1 1 79084.1]\n",
      " [0.0 0.0 1.0 645 1 44 8 113755.78 2 1 0 149756.71]\n",
      " [1.0 0.0 0.0 822 1 50 7 0.0 2 1 1 10062.8]\n",
      " [0.0 1.0 0.0 376 0 29 4 115046.74 4 1 0 119346.88]\n",
      " [1.0 0.0 0.0 501 1 44 4 142051.07 2 0 1 74940.5]\n",
      " [1.0 0.0 0.0 684 1 27 2 134603.88 1 1 1 71725.73]]\n"
     ]
    }
   ],
   "source": [
    "print(X[0:10])"
   ]
  },
  {
   "cell_type": "markdown",
   "metadata": {},
   "source": [
    "note the Geography column replaced with 3 columns at the front, the column of these three with a nonzero value indicates the country."
   ]
  },
  {
   "cell_type": "markdown",
   "metadata": {
    "colab_type": "text",
    "id": "vHol938cW8zd"
   },
   "source": [
    "### Splitting the dataset into the Training set and Test set"
   ]
  },
  {
   "cell_type": "code",
   "execution_count": 17,
   "metadata": {},
   "outputs": [],
   "source": [
    "from sklearn.model_selection import train_test_split\n",
    "X_train, X_test, y_train, y_test = train_test_split(X, y, test_size = 0.2, random_state = 0)"
   ]
  },
  {
   "cell_type": "markdown",
   "metadata": {
    "colab_type": "text",
    "id": "RE_FcHyfV3TQ"
   },
   "source": [
    "### Feature Scaling"
   ]
  },
  {
   "cell_type": "code",
   "execution_count": 18,
   "metadata": {},
   "outputs": [],
   "source": [
    "from sklearn.preprocessing import StandardScaler\n",
    "sc = StandardScaler()\n",
    "X_train = sc.fit_transform(X_train)\n",
    "X_test = sc.transform(X_test)"
   ]
  },
  {
   "cell_type": "markdown",
   "metadata": {
    "colab_type": "text",
    "id": "-zfEzkRVXIwF"
   },
   "source": [
    "## Part 2 - Building the ANN"
   ]
  },
  {
   "cell_type": "markdown",
   "metadata": {
    "colab_type": "text",
    "id": "KvdeScabXtlB"
   },
   "source": [
    "### Initializing the ANN"
   ]
  },
  {
   "cell_type": "code",
   "execution_count": 19,
   "metadata": {},
   "outputs": [],
   "source": [
    "ann = tf.keras.models.Sequential()\n",
    "\n",
    "# Adding the input layer and the first hidden layer\n",
    "ann.add(tf.keras.layers.Dense(units=6, activation='relu'))\n",
    "\n",
    "# Adding the second hidden layer\n",
    "ann.add(tf.keras.layers.Dense(units=6, activation='relu'))\n",
    "\n",
    "# Adding the output layer\n",
    "ann.add(tf.keras.layers.Dense(units=1, activation='sigmoid'))"
   ]
  },
  {
   "cell_type": "code",
   "execution_count": 20,
   "metadata": {},
   "outputs": [
    {
     "data": {
      "text/plain": [
       "[<keras.src.layers.core.dense.Dense at 0x7f8bbbae9b20>,\n",
       " <keras.src.layers.core.dense.Dense at 0x7f8bbba72670>,\n",
       " <keras.src.layers.core.dense.Dense at 0x7f8bbba72e50>]"
      ]
     },
     "execution_count": 20,
     "metadata": {},
     "output_type": "execute_result"
    }
   ],
   "source": [
    "ann.layers"
   ]
  },
  {
   "cell_type": "markdown",
   "metadata": {
    "colab_type": "text",
    "id": "JT4u2S1_Y4WG"
   },
   "source": [
    "## Part 3 - Training the ANN"
   ]
  },
  {
   "cell_type": "markdown",
   "metadata": {
    "colab_type": "text",
    "id": "8GWlJChhY_ZI"
   },
   "source": [
    "### Compiling the ANN"
   ]
  },
  {
   "cell_type": "code",
   "execution_count": 21,
   "metadata": {},
   "outputs": [],
   "source": [
    "# adam optimizer for gradient descent\n",
    "# binary cross entropy loss function as this is a classification\n",
    "# accuracy as only metric as this is demo\n",
    "\n",
    "ann.compile(optimizer = 'adam', loss = 'binary_crossentropy', metrics = ['accuracy'])"
   ]
  },
  {
   "cell_type": "markdown",
   "metadata": {
    "colab_type": "text",
    "id": "0QR_G5u7ZLSM"
   },
   "source": [
    "### Training the ANN on the Training set"
   ]
  },
  {
   "cell_type": "code",
   "execution_count": 22,
   "metadata": {},
   "outputs": [
    {
     "name": "stdout",
     "output_type": "stream",
     "text": [
      "Epoch 1/100\n",
      "250/250 [==============================] - 1s 685us/step - loss: 0.5532 - accuracy: 0.7881\n",
      "Epoch 2/100\n",
      "250/250 [==============================] - 0s 694us/step - loss: 0.4846 - accuracy: 0.7960\n",
      "Epoch 3/100\n",
      "250/250 [==============================] - 0s 692us/step - loss: 0.4578 - accuracy: 0.7959\n",
      "Epoch 4/100\n",
      "250/250 [==============================] - 0s 705us/step - loss: 0.4383 - accuracy: 0.8064\n",
      "Epoch 5/100\n",
      "250/250 [==============================] - 0s 686us/step - loss: 0.4262 - accuracy: 0.8110\n",
      "Epoch 6/100\n",
      "250/250 [==============================] - 0s 691us/step - loss: 0.4184 - accuracy: 0.8148\n",
      "Epoch 7/100\n",
      "250/250 [==============================] - 0s 680us/step - loss: 0.4119 - accuracy: 0.8189\n",
      "Epoch 8/100\n",
      "250/250 [==============================] - 0s 694us/step - loss: 0.4037 - accuracy: 0.8256\n",
      "Epoch 9/100\n",
      "250/250 [==============================] - 0s 681us/step - loss: 0.3939 - accuracy: 0.8339\n",
      "Epoch 10/100\n",
      "250/250 [==============================] - 0s 705us/step - loss: 0.3855 - accuracy: 0.8331\n",
      "Epoch 11/100\n",
      "250/250 [==============================] - 0s 700us/step - loss: 0.3757 - accuracy: 0.8425\n",
      "Epoch 12/100\n",
      "250/250 [==============================] - 0s 696us/step - loss: 0.3681 - accuracy: 0.8447\n",
      "Epoch 13/100\n",
      "250/250 [==============================] - 0s 705us/step - loss: 0.3618 - accuracy: 0.8478\n",
      "Epoch 14/100\n",
      "250/250 [==============================] - 0s 693us/step - loss: 0.3565 - accuracy: 0.8530\n",
      "Epoch 15/100\n",
      "250/250 [==============================] - 0s 696us/step - loss: 0.3517 - accuracy: 0.8562\n",
      "Epoch 16/100\n",
      "250/250 [==============================] - 0s 690us/step - loss: 0.3485 - accuracy: 0.8568\n",
      "Epoch 17/100\n",
      "250/250 [==============================] - 0s 678us/step - loss: 0.3461 - accuracy: 0.8564\n",
      "Epoch 18/100\n",
      "250/250 [==============================] - 0s 694us/step - loss: 0.3448 - accuracy: 0.8591\n",
      "Epoch 19/100\n",
      "250/250 [==============================] - 0s 680us/step - loss: 0.3433 - accuracy: 0.8595\n",
      "Epoch 20/100\n",
      "250/250 [==============================] - 0s 714us/step - loss: 0.3418 - accuracy: 0.8590\n",
      "Epoch 21/100\n",
      "250/250 [==============================] - 0s 712us/step - loss: 0.3414 - accuracy: 0.8618\n",
      "Epoch 22/100\n",
      "250/250 [==============================] - 0s 701us/step - loss: 0.3397 - accuracy: 0.8602\n",
      "Epoch 23/100\n",
      "250/250 [==============================] - 0s 697us/step - loss: 0.3391 - accuracy: 0.8635\n",
      "Epoch 24/100\n",
      "250/250 [==============================] - 0s 693us/step - loss: 0.3387 - accuracy: 0.8626\n",
      "Epoch 25/100\n",
      "250/250 [==============================] - 0s 692us/step - loss: 0.3386 - accuracy: 0.8625\n",
      "Epoch 26/100\n",
      "250/250 [==============================] - 0s 692us/step - loss: 0.3384 - accuracy: 0.8626\n",
      "Epoch 27/100\n",
      "250/250 [==============================] - 0s 702us/step - loss: 0.3379 - accuracy: 0.8624\n",
      "Epoch 28/100\n",
      "250/250 [==============================] - 0s 691us/step - loss: 0.3375 - accuracy: 0.8624\n",
      "Epoch 29/100\n",
      "250/250 [==============================] - 0s 695us/step - loss: 0.3373 - accuracy: 0.8619\n",
      "Epoch 30/100\n",
      "250/250 [==============================] - 0s 691us/step - loss: 0.3374 - accuracy: 0.8608\n",
      "Epoch 31/100\n",
      "250/250 [==============================] - 0s 705us/step - loss: 0.3371 - accuracy: 0.8626\n",
      "Epoch 32/100\n",
      "250/250 [==============================] - 0s 688us/step - loss: 0.3370 - accuracy: 0.8627\n",
      "Epoch 33/100\n",
      "250/250 [==============================] - 0s 688us/step - loss: 0.3366 - accuracy: 0.8629\n",
      "Epoch 34/100\n",
      "250/250 [==============================] - 0s 700us/step - loss: 0.3359 - accuracy: 0.8619\n",
      "Epoch 35/100\n",
      "250/250 [==============================] - 0s 686us/step - loss: 0.3360 - accuracy: 0.8634\n",
      "Epoch 36/100\n",
      "250/250 [==============================] - 0s 699us/step - loss: 0.3361 - accuracy: 0.8625\n",
      "Epoch 37/100\n",
      "250/250 [==============================] - 0s 691us/step - loss: 0.3357 - accuracy: 0.8633\n",
      "Epoch 38/100\n",
      "250/250 [==============================] - 0s 707us/step - loss: 0.3358 - accuracy: 0.8620\n",
      "Epoch 39/100\n",
      "250/250 [==============================] - 0s 704us/step - loss: 0.3356 - accuracy: 0.8626\n",
      "Epoch 40/100\n",
      "250/250 [==============================] - 0s 687us/step - loss: 0.3355 - accuracy: 0.8641\n",
      "Epoch 41/100\n",
      "250/250 [==============================] - 0s 688us/step - loss: 0.3359 - accuracy: 0.8655\n",
      "Epoch 42/100\n",
      "250/250 [==============================] - 0s 698us/step - loss: 0.3354 - accuracy: 0.8636\n",
      "Epoch 43/100\n",
      "250/250 [==============================] - 0s 698us/step - loss: 0.3350 - accuracy: 0.8630\n",
      "Epoch 44/100\n",
      "250/250 [==============================] - 0s 693us/step - loss: 0.3353 - accuracy: 0.8629\n",
      "Epoch 45/100\n",
      "250/250 [==============================] - 0s 686us/step - loss: 0.3350 - accuracy: 0.8641\n",
      "Epoch 46/100\n",
      "250/250 [==============================] - 0s 693us/step - loss: 0.3352 - accuracy: 0.8630\n",
      "Epoch 47/100\n",
      "250/250 [==============================] - 0s 692us/step - loss: 0.3350 - accuracy: 0.8619\n",
      "Epoch 48/100\n",
      "250/250 [==============================] - 0s 689us/step - loss: 0.3348 - accuracy: 0.8630\n",
      "Epoch 49/100\n",
      "250/250 [==============================] - 0s 709us/step - loss: 0.3347 - accuracy: 0.8627\n",
      "Epoch 50/100\n",
      "250/250 [==============================] - 0s 688us/step - loss: 0.3351 - accuracy: 0.8625\n",
      "Epoch 51/100\n",
      "250/250 [==============================] - 0s 697us/step - loss: 0.3348 - accuracy: 0.8619\n",
      "Epoch 52/100\n",
      "250/250 [==============================] - 0s 693us/step - loss: 0.3348 - accuracy: 0.8630\n",
      "Epoch 53/100\n",
      "250/250 [==============================] - 0s 689us/step - loss: 0.3347 - accuracy: 0.8631\n",
      "Epoch 54/100\n",
      "250/250 [==============================] - 0s 679us/step - loss: 0.3350 - accuracy: 0.8635\n",
      "Epoch 55/100\n",
      "250/250 [==============================] - 0s 679us/step - loss: 0.3346 - accuracy: 0.8629\n",
      "Epoch 56/100\n",
      "250/250 [==============================] - 0s 678us/step - loss: 0.3343 - accuracy: 0.8627\n",
      "Epoch 57/100\n",
      "250/250 [==============================] - 0s 677us/step - loss: 0.3342 - accuracy: 0.8640\n",
      "Epoch 58/100\n",
      "250/250 [==============================] - 0s 679us/step - loss: 0.3341 - accuracy: 0.8621\n",
      "Epoch 59/100\n",
      "250/250 [==============================] - 0s 663us/step - loss: 0.3342 - accuracy: 0.8630\n",
      "Epoch 60/100\n",
      "250/250 [==============================] - 0s 679us/step - loss: 0.3338 - accuracy: 0.8622\n",
      "Epoch 61/100\n",
      "250/250 [==============================] - 0s 676us/step - loss: 0.3340 - accuracy: 0.8620\n",
      "Epoch 62/100\n",
      "250/250 [==============================] - 0s 680us/step - loss: 0.3343 - accuracy: 0.8637\n",
      "Epoch 63/100\n",
      "250/250 [==============================] - 0s 673us/step - loss: 0.3341 - accuracy: 0.8639\n",
      "Epoch 64/100\n",
      "250/250 [==============================] - 0s 665us/step - loss: 0.3339 - accuracy: 0.8637\n",
      "Epoch 65/100\n",
      "250/250 [==============================] - 0s 670us/step - loss: 0.3339 - accuracy: 0.8625\n",
      "Epoch 66/100\n",
      "250/250 [==============================] - 0s 677us/step - loss: 0.3340 - accuracy: 0.8616\n",
      "Epoch 67/100\n",
      "250/250 [==============================] - 0s 670us/step - loss: 0.3339 - accuracy: 0.8639\n",
      "Epoch 68/100\n",
      "250/250 [==============================] - 0s 675us/step - loss: 0.3339 - accuracy: 0.8609\n",
      "Epoch 69/100\n",
      "250/250 [==============================] - 0s 668us/step - loss: 0.3337 - accuracy: 0.8622\n",
      "Epoch 70/100\n",
      "250/250 [==============================] - 0s 671us/step - loss: 0.3335 - accuracy: 0.8627\n",
      "Epoch 71/100\n",
      "250/250 [==============================] - 0s 685us/step - loss: 0.3333 - accuracy: 0.8621\n",
      "Epoch 72/100\n",
      "250/250 [==============================] - 0s 676us/step - loss: 0.3338 - accuracy: 0.8637\n",
      "Epoch 73/100\n",
      "250/250 [==============================] - 0s 675us/step - loss: 0.3334 - accuracy: 0.8626\n",
      "Epoch 74/100\n",
      "250/250 [==============================] - 0s 679us/step - loss: 0.3335 - accuracy: 0.8639\n",
      "Epoch 75/100\n",
      "250/250 [==============================] - 0s 677us/step - loss: 0.3337 - accuracy: 0.8621\n",
      "Epoch 76/100\n",
      "250/250 [==============================] - 0s 675us/step - loss: 0.3336 - accuracy: 0.8606\n",
      "Epoch 77/100\n",
      "250/250 [==============================] - 0s 675us/step - loss: 0.3329 - accuracy: 0.8641\n",
      "Epoch 78/100\n",
      "250/250 [==============================] - 0s 681us/step - loss: 0.3339 - accuracy: 0.8622\n",
      "Epoch 79/100\n",
      "250/250 [==============================] - 0s 675us/step - loss: 0.3333 - accuracy: 0.8622\n",
      "Epoch 80/100\n",
      "250/250 [==============================] - 0s 670us/step - loss: 0.3333 - accuracy: 0.8629\n",
      "Epoch 81/100\n",
      "250/250 [==============================] - 0s 669us/step - loss: 0.3329 - accuracy: 0.8630\n",
      "Epoch 82/100\n",
      "250/250 [==============================] - 0s 668us/step - loss: 0.3336 - accuracy: 0.8630\n",
      "Epoch 83/100\n",
      "250/250 [==============================] - 0s 663us/step - loss: 0.3333 - accuracy: 0.8639\n",
      "Epoch 84/100\n",
      "250/250 [==============================] - 0s 676us/step - loss: 0.3330 - accuracy: 0.8615\n",
      "Epoch 85/100\n",
      "250/250 [==============================] - 0s 675us/step - loss: 0.3332 - accuracy: 0.8636\n",
      "Epoch 86/100\n",
      "250/250 [==============================] - 0s 674us/step - loss: 0.3330 - accuracy: 0.8637\n",
      "Epoch 87/100\n",
      "250/250 [==============================] - 0s 669us/step - loss: 0.3330 - accuracy: 0.8635\n",
      "Epoch 88/100\n",
      "250/250 [==============================] - 0s 665us/step - loss: 0.3330 - accuracy: 0.8626\n",
      "Epoch 89/100\n",
      "250/250 [==============================] - 0s 676us/step - loss: 0.3334 - accuracy: 0.8634\n",
      "Epoch 90/100\n",
      "250/250 [==============================] - 0s 675us/step - loss: 0.3330 - accuracy: 0.8612\n",
      "Epoch 91/100\n",
      "250/250 [==============================] - 0s 670us/step - loss: 0.3331 - accuracy: 0.8614\n",
      "Epoch 92/100\n",
      "250/250 [==============================] - 0s 680us/step - loss: 0.3331 - accuracy: 0.8618\n",
      "Epoch 93/100\n",
      "250/250 [==============================] - 0s 677us/step - loss: 0.3329 - accuracy: 0.8643\n",
      "Epoch 94/100\n",
      "250/250 [==============================] - 0s 670us/step - loss: 0.3329 - accuracy: 0.8641\n",
      "Epoch 95/100\n",
      "250/250 [==============================] - 0s 688us/step - loss: 0.3330 - accuracy: 0.8629\n",
      "Epoch 96/100\n",
      "250/250 [==============================] - 0s 670us/step - loss: 0.3328 - accuracy: 0.8625\n",
      "Epoch 97/100\n",
      "250/250 [==============================] - 0s 670us/step - loss: 0.3331 - accuracy: 0.8619\n",
      "Epoch 98/100\n",
      "250/250 [==============================] - 0s 663us/step - loss: 0.3331 - accuracy: 0.8630\n",
      "Epoch 99/100\n",
      "250/250 [==============================] - 0s 675us/step - loss: 0.3330 - accuracy: 0.8624\n",
      "Epoch 100/100\n",
      "250/250 [==============================] - 0s 699us/step - loss: 0.3326 - accuracy: 0.8630\n"
     ]
    },
    {
     "data": {
      "text/plain": [
       "<keras.src.callbacks.History at 0x7f8bb814c130>"
      ]
     },
     "execution_count": 22,
     "metadata": {},
     "output_type": "execute_result"
    }
   ],
   "source": [
    "ann.fit(X_train, y_train, batch_size = 32, epochs = 100)"
   ]
  },
  {
   "cell_type": "markdown",
   "metadata": {
    "colab_type": "text",
    "id": "tJj5k2MxZga3"
   },
   "source": [
    "## Part 4 - Making the predictions and evaluating the model"
   ]
  },
  {
   "cell_type": "markdown",
   "metadata": {
    "colab_type": "text",
    "id": "84QFoqGYeXHL"
   },
   "source": [
    "### Predicting the result of a single observation"
   ]
  },
  {
   "cell_type": "markdown",
   "metadata": {
    "colab_type": "text",
    "id": "CGRo3eacgDdC"
   },
   "source": [
    "Use the ANN model to predict if the customer with the following informations will leave the bank: \n",
    "\n",
    "Geography: France\n",
    "\n",
    "Credit Score: 600\n",
    "\n",
    "Gender: Male\n",
    "\n",
    "Age: 40 years old\n",
    "\n",
    "Tenure: 3 years\n",
    "\n",
    "Balance: 60000\n",
    "\n",
    "Number of Products: 2\n",
    "\n",
    "Does this customer have a credit card ? Yes\n",
    "\n",
    "Is this customer an Active Member: Yes\n",
    "\n",
    "Estimated Salary: 50000\n"
   ]
  },
  {
   "cell_type": "code",
   "execution_count": 23,
   "metadata": {},
   "outputs": [
    {
     "name": "stdout",
     "output_type": "stream",
     "text": [
      "1/1 [==============================] - 0s 58ms/step\n",
      "[[False]]\n"
     ]
    }
   ],
   "source": [
    "print(ann.predict(sc.transform([[1.0, 0.0, 0.0, 600, 1, 40, 3, 60000, 2, 1, 1, 50000]]))> 0.5)"
   ]
  },
  {
   "cell_type": "markdown",
   "metadata": {
    "colab_type": "text",
    "id": "wGjx94g2n7OV"
   },
   "source": [
    "ANN model predicts that this customer stays in the bank"
   ]
  },
  {
   "cell_type": "markdown",
   "metadata": {
    "colab_type": "text",
    "id": "u7yx47jPZt11"
   },
   "source": [
    "### Predicting the Test set results"
   ]
  },
  {
   "cell_type": "code",
   "execution_count": 24,
   "metadata": {},
   "outputs": [
    {
     "name": "stdout",
     "output_type": "stream",
     "text": [
      "63/63 [==============================] - 0s 636us/step\n",
      "[[0 0]\n",
      " [0 1]\n",
      " [0 0]\n",
      " ...\n",
      " [0 0]\n",
      " [0 0]\n",
      " [0 0]]\n"
     ]
    }
   ],
   "source": [
    "y_pred = ann.predict(X_test)\n",
    "y_pred = (y_pred > 0.5)\n",
    "print(np.concatenate((y_pred.reshape(len(y_pred),1), y_test.reshape(len(y_test),1)),1))"
   ]
  },
  {
   "cell_type": "markdown",
   "metadata": {
    "colab_type": "text",
    "id": "o0oyfLWoaEGw"
   },
   "source": [
    "### Making the Confusion Matrix"
   ]
  },
  {
   "cell_type": "code",
   "execution_count": 29,
   "metadata": {},
   "outputs": [
    {
     "name": "stdout",
     "output_type": "stream",
     "text": [
      "[[1518   77]\n",
      " [ 203  202]]\n",
      "Accuracy: 0.86\n",
      "Precision: 0.8820453224869262\n",
      "Recall: 0.9517241379310345\n",
      "F1 score: 0.9155609167671894\n"
     ]
    }
   ],
   "source": [
    "from sklearn.metrics import confusion_matrix, accuracy_score, precision_recall_fscore_support\n",
    "cm = confusion_matrix(y_test, y_pred)\n",
    "print(cm)\n",
    "print('Accuracy:', accuracy_score(y_test, y_pred))\n",
    "print('Precision:', precision_recall_fscore_support(y_test, y_pred, average=None)[0][0])\n",
    "print('Recall:', precision_recall_fscore_support(y_test, y_pred, average=None)[1][0])\n",
    "print('F1 score:', precision_recall_fscore_support(y_test, y_pred, average=None)[2][0])"
   ]
  }
 ],
 "metadata": {
  "colab": {
   "collapsed_sections": [],
   "name": "artificial_neural_network.ipynb",
   "provenance": [],
   "toc_visible": true
  },
  "kernelspec": {
   "display_name": "Python 3 (ipykernel)",
   "language": "python",
   "name": "python3"
  },
  "language_info": {
   "codemirror_mode": {
    "name": "ipython",
    "version": 3
   },
   "file_extension": ".py",
   "mimetype": "text/x-python",
   "name": "python",
   "nbconvert_exporter": "python",
   "pygments_lexer": "ipython3",
   "version": "3.8.18"
  }
 },
 "nbformat": 4,
 "nbformat_minor": 1
}
