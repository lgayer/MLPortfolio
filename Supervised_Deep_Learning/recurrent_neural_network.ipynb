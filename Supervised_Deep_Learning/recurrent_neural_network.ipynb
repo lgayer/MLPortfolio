{
 "cells": [
  {
   "cell_type": "markdown",
   "metadata": {
    "colab_type": "text",
    "id": "xpAuMVCwfWs8"
   },
   "source": [
    "# Recurrent Neural Network"
   ]
  },
  {
   "cell_type": "markdown",
   "metadata": {},
   "source": [
    "Google stock price predictor based on previous values"
   ]
  },
  {
   "cell_type": "markdown",
   "metadata": {
    "colab_type": "text",
    "id": "nxJfRe4bfYVA"
   },
   "source": [
    "## Part 1 - Data Preprocessing"
   ]
  },
  {
   "cell_type": "markdown",
   "metadata": {
    "colab_type": "text",
    "id": "ir9zwETrfbrp"
   },
   "source": [
    "### Importing the libraries"
   ]
  },
  {
   "cell_type": "code",
   "execution_count": 1,
   "metadata": {
    "colab": {},
    "colab_type": "code",
    "id": "ZT1f24vHffuf"
   },
   "outputs": [],
   "source": [
    "import numpy as np\n",
    "import matplotlib.pyplot as plt\n",
    "import pandas as pd"
   ]
  },
  {
   "cell_type": "markdown",
   "metadata": {
    "colab_type": "text",
    "id": "nQ47JAxrgmaL"
   },
   "source": [
    "### Importing the training set"
   ]
  },
  {
   "cell_type": "code",
   "execution_count": 2,
   "metadata": {},
   "outputs": [
    {
     "data": {
      "text/html": [
       "<div>\n",
       "<style scoped>\n",
       "    .dataframe tbody tr th:only-of-type {\n",
       "        vertical-align: middle;\n",
       "    }\n",
       "\n",
       "    .dataframe tbody tr th {\n",
       "        vertical-align: top;\n",
       "    }\n",
       "\n",
       "    .dataframe thead th {\n",
       "        text-align: right;\n",
       "    }\n",
       "</style>\n",
       "<table border=\"1\" class=\"dataframe\">\n",
       "  <thead>\n",
       "    <tr style=\"text-align: right;\">\n",
       "      <th></th>\n",
       "      <th>Date</th>\n",
       "      <th>Open</th>\n",
       "      <th>High</th>\n",
       "      <th>Low</th>\n",
       "      <th>Close</th>\n",
       "      <th>Volume</th>\n",
       "    </tr>\n",
       "  </thead>\n",
       "  <tbody>\n",
       "    <tr>\n",
       "      <th>0</th>\n",
       "      <td>1/3/2012</td>\n",
       "      <td>325.25</td>\n",
       "      <td>332.83</td>\n",
       "      <td>324.97</td>\n",
       "      <td>663.59</td>\n",
       "      <td>7,380,500</td>\n",
       "    </tr>\n",
       "    <tr>\n",
       "      <th>1</th>\n",
       "      <td>1/4/2012</td>\n",
       "      <td>331.27</td>\n",
       "      <td>333.87</td>\n",
       "      <td>329.08</td>\n",
       "      <td>666.45</td>\n",
       "      <td>5,749,400</td>\n",
       "    </tr>\n",
       "    <tr>\n",
       "      <th>2</th>\n",
       "      <td>1/5/2012</td>\n",
       "      <td>329.83</td>\n",
       "      <td>330.75</td>\n",
       "      <td>326.89</td>\n",
       "      <td>657.21</td>\n",
       "      <td>6,590,300</td>\n",
       "    </tr>\n",
       "    <tr>\n",
       "      <th>3</th>\n",
       "      <td>1/6/2012</td>\n",
       "      <td>328.34</td>\n",
       "      <td>328.77</td>\n",
       "      <td>323.68</td>\n",
       "      <td>648.24</td>\n",
       "      <td>5,405,900</td>\n",
       "    </tr>\n",
       "    <tr>\n",
       "      <th>4</th>\n",
       "      <td>1/9/2012</td>\n",
       "      <td>322.04</td>\n",
       "      <td>322.29</td>\n",
       "      <td>309.46</td>\n",
       "      <td>620.76</td>\n",
       "      <td>11,688,800</td>\n",
       "    </tr>\n",
       "  </tbody>\n",
       "</table>\n",
       "</div>"
      ],
      "text/plain": [
       "       Date    Open    High     Low   Close      Volume\n",
       "0  1/3/2012  325.25  332.83  324.97  663.59   7,380,500\n",
       "1  1/4/2012  331.27  333.87  329.08  666.45   5,749,400\n",
       "2  1/5/2012  329.83  330.75  326.89  657.21   6,590,300\n",
       "3  1/6/2012  328.34  328.77  323.68  648.24   5,405,900\n",
       "4  1/9/2012  322.04  322.29  309.46  620.76  11,688,800"
      ]
     },
     "metadata": {},
     "output_type": "display_data"
    },
    {
     "data": {
      "text/plain": [
       "(1258, 6)"
      ]
     },
     "metadata": {},
     "output_type": "display_data"
    }
   ],
   "source": [
    "dataset_train = pd.read_csv('Data/Google_Stock_Price_Train.csv')\n",
    "display(dataset_train.head(), dataset_train.shape)"
   ]
  },
  {
   "cell_type": "code",
   "execution_count": 3,
   "metadata": {},
   "outputs": [],
   "source": [
    "training_set = dataset_train.iloc[:, 1:2].values"
   ]
  },
  {
   "cell_type": "markdown",
   "metadata": {
    "colab_type": "text",
    "id": "HT8_2UJegtG5"
   },
   "source": [
    "### Feature Scaling"
   ]
  },
  {
   "cell_type": "code",
   "execution_count": 4,
   "metadata": {},
   "outputs": [],
   "source": [
    "from sklearn.preprocessing import MinMaxScaler\n",
    "sc = MinMaxScaler(feature_range = (0, 1))\n",
    "training_set_scaled = sc.fit_transform(training_set)"
   ]
  },
  {
   "cell_type": "markdown",
   "metadata": {
    "colab_type": "text",
    "id": "JyYgYocqhNUg"
   },
   "source": [
    "### Creating a data structure with 60 timesteps and 1 output"
   ]
  },
  {
   "cell_type": "code",
   "execution_count": 5,
   "metadata": {},
   "outputs": [],
   "source": [
    "X_train = []\n",
    "y_train = []\n",
    "for i in range(60,1258):\n",
    "    X_train.append(training_set_scaled[i-60:i, 0])\n",
    "    y_train.append(training_set_scaled[i, 0])\n",
    "X_train, y_train = np.array(X_train), np.array(y_train)"
   ]
  },
  {
   "cell_type": "markdown",
   "metadata": {
    "colab_type": "text",
    "id": "D8yaN7Zvi95l"
   },
   "source": [
    "### Reshaping"
   ]
  },
  {
   "cell_type": "code",
   "execution_count": 6,
   "metadata": {},
   "outputs": [],
   "source": [
    "X_train = np.reshape(X_train, (X_train.shape[0], X_train.shape[1], 1))"
   ]
  },
  {
   "cell_type": "markdown",
   "metadata": {
    "colab_type": "text",
    "id": "ZRRSOJeVjEWV"
   },
   "source": [
    "## Part 2 - Building and Training the RNN"
   ]
  },
  {
   "cell_type": "markdown",
   "metadata": {
    "colab_type": "text",
    "id": "k4XV88JMjHXG"
   },
   "source": [
    "### Importing the Keras libraries and packages"
   ]
  },
  {
   "cell_type": "code",
   "execution_count": 8,
   "metadata": {},
   "outputs": [],
   "source": [
    "from keras.models import Sequential\n",
    "from keras.layers import Dense\n",
    "from keras.layers import LSTM\n",
    "from keras.layers import Dropout"
   ]
  },
  {
   "cell_type": "markdown",
   "metadata": {
    "colab_type": "text",
    "id": "FEIE-1s9jNzC"
   },
   "source": [
    "### Initialising the RNN"
   ]
  },
  {
   "cell_type": "code",
   "execution_count": 9,
   "metadata": {},
   "outputs": [],
   "source": [
    "regressor = Sequential()\n",
    "\n",
    "# Adding the first LSTM layer and some Dropout regularisati\n",
    "regressor.add(LSTM(units = 60, return_sequences = True, input_shape = (X_train.shape[1], 1)))\n",
    "regressor.add(Dropout(0.2))\n",
    "\n",
    "# Adding a second LSTM layer and some Dropout regularisation\n",
    "regressor.add(LSTM(units = 60, return_sequences = True))\n",
    "regressor.add(Dropout(0.2))\n",
    "\n",
    "# Adding a third LSTM layer and some Dropout regularisation\n",
    "regressor.add(LSTM(units = 60, return_sequences = True))\n",
    "regressor.add(Dropout(0.2))\n",
    "\n",
    "# Adding a fourth LSTM layer and some Dropout regularisation\n",
    "regressor.add(LSTM(units = 60))\n",
    "regressor.add(Dropout(0.2))\n",
    "\n",
    "# Adding the output layer\n",
    "regressor.add(Dense(units = 1))"
   ]
  },
  {
   "cell_type": "code",
   "execution_count": 10,
   "metadata": {},
   "outputs": [
    {
     "data": {
      "text/plain": [
       "[<keras.src.layers.rnn.lstm.LSTM at 0x7f0d341806d0>,\n",
       " <keras.src.layers.regularization.dropout.Dropout at 0x7f0d341809d0>,\n",
       " <keras.src.layers.rnn.lstm.LSTM at 0x7f0d186e6df0>,\n",
       " <keras.src.layers.regularization.dropout.Dropout at 0x7f0d187118b0>,\n",
       " <keras.src.layers.rnn.lstm.LSTM at 0x7f0d187993a0>,\n",
       " <keras.src.layers.regularization.dropout.Dropout at 0x7f0d18660fa0>,\n",
       " <keras.src.layers.rnn.lstm.LSTM at 0x7f0d187d1ca0>,\n",
       " <keras.src.layers.regularization.dropout.Dropout at 0x7f0d186a4580>,\n",
       " <keras.src.layers.core.dense.Dense at 0x7f0d185ca5b0>]"
      ]
     },
     "execution_count": 10,
     "metadata": {},
     "output_type": "execute_result"
    }
   ],
   "source": [
    "regressor.layers"
   ]
  },
  {
   "cell_type": "markdown",
   "metadata": {
    "colab_type": "text",
    "id": "zLx4K7uUkPSh"
   },
   "source": [
    "### Compiling the RNN"
   ]
  },
  {
   "cell_type": "code",
   "execution_count": 11,
   "metadata": {},
   "outputs": [],
   "source": [
    "regressor.compile(optimizer = 'RMSprop', loss = 'mean_squared_error')"
   ]
  },
  {
   "cell_type": "markdown",
   "metadata": {
    "colab_type": "text",
    "id": "-mPhwKGkkebi"
   },
   "source": [
    "### Fitting the RNN to the Training set"
   ]
  },
  {
   "cell_type": "code",
   "execution_count": 12,
   "metadata": {},
   "outputs": [
    {
     "name": "stdout",
     "output_type": "stream",
     "text": [
      "Epoch 1/100\n",
      "38/38 [==============================] - 5s 43ms/step - loss: 0.0362\n",
      "Epoch 2/100\n",
      "38/38 [==============================] - 2s 45ms/step - loss: 0.0135\n",
      "Epoch 3/100\n",
      "38/38 [==============================] - 2s 45ms/step - loss: 0.0117\n",
      "Epoch 4/100\n",
      "38/38 [==============================] - 2s 46ms/step - loss: 0.0098\n",
      "Epoch 5/100\n",
      "38/38 [==============================] - 2s 46ms/step - loss: 0.0092\n",
      "Epoch 6/100\n",
      "38/38 [==============================] - 2s 46ms/step - loss: 0.0074\n",
      "Epoch 7/100\n",
      "38/38 [==============================] - 2s 45ms/step - loss: 0.0074\n",
      "Epoch 8/100\n",
      "38/38 [==============================] - 2s 45ms/step - loss: 0.0072\n",
      "Epoch 9/100\n",
      "38/38 [==============================] - 2s 46ms/step - loss: 0.0065\n",
      "Epoch 10/100\n",
      "38/38 [==============================] - 2s 46ms/step - loss: 0.0063\n",
      "Epoch 11/100\n",
      "38/38 [==============================] - 2s 46ms/step - loss: 0.0056\n",
      "Epoch 12/100\n",
      "38/38 [==============================] - 2s 45ms/step - loss: 0.0052\n",
      "Epoch 13/100\n",
      "38/38 [==============================] - 2s 46ms/step - loss: 0.0057\n",
      "Epoch 14/100\n",
      "38/38 [==============================] - 2s 47ms/step - loss: 0.0051\n",
      "Epoch 15/100\n",
      "38/38 [==============================] - 2s 46ms/step - loss: 0.0050\n",
      "Epoch 16/100\n",
      "38/38 [==============================] - 2s 47ms/step - loss: 0.0050\n",
      "Epoch 17/100\n",
      "38/38 [==============================] - 2s 47ms/step - loss: 0.0047\n",
      "Epoch 18/100\n",
      "38/38 [==============================] - 2s 47ms/step - loss: 0.0047\n",
      "Epoch 19/100\n",
      "38/38 [==============================] - 2s 47ms/step - loss: 0.0046\n",
      "Epoch 20/100\n",
      "38/38 [==============================] - 2s 47ms/step - loss: 0.0042\n",
      "Epoch 21/100\n",
      "38/38 [==============================] - 2s 47ms/step - loss: 0.0040\n",
      "Epoch 22/100\n",
      "38/38 [==============================] - 2s 47ms/step - loss: 0.0047\n",
      "Epoch 23/100\n",
      "38/38 [==============================] - 2s 47ms/step - loss: 0.0038\n",
      "Epoch 24/100\n",
      "38/38 [==============================] - 2s 47ms/step - loss: 0.0039\n",
      "Epoch 25/100\n",
      "38/38 [==============================] - 2s 47ms/step - loss: 0.0039\n",
      "Epoch 26/100\n",
      "38/38 [==============================] - 2s 47ms/step - loss: 0.0040\n",
      "Epoch 27/100\n",
      "38/38 [==============================] - 2s 47ms/step - loss: 0.0034\n",
      "Epoch 28/100\n",
      "38/38 [==============================] - 2s 46ms/step - loss: 0.0034\n",
      "Epoch 29/100\n",
      "38/38 [==============================] - 2s 46ms/step - loss: 0.0037\n",
      "Epoch 30/100\n",
      "38/38 [==============================] - 2s 46ms/step - loss: 0.0035\n",
      "Epoch 31/100\n",
      "38/38 [==============================] - 2s 46ms/step - loss: 0.0030\n",
      "Epoch 32/100\n",
      "38/38 [==============================] - 2s 49ms/step - loss: 0.0032\n",
      "Epoch 33/100\n",
      "38/38 [==============================] - 2s 50ms/step - loss: 0.0031\n",
      "Epoch 34/100\n",
      "38/38 [==============================] - 2s 50ms/step - loss: 0.0033\n",
      "Epoch 35/100\n",
      "38/38 [==============================] - 2s 50ms/step - loss: 0.0030\n",
      "Epoch 36/100\n",
      "38/38 [==============================] - 2s 49ms/step - loss: 0.0031\n",
      "Epoch 37/100\n",
      "38/38 [==============================] - 2s 49ms/step - loss: 0.0030\n",
      "Epoch 38/100\n",
      "38/38 [==============================] - 2s 49ms/step - loss: 0.0028\n",
      "Epoch 39/100\n",
      "38/38 [==============================] - 2s 49ms/step - loss: 0.0029\n",
      "Epoch 40/100\n",
      "38/38 [==============================] - 2s 49ms/step - loss: 0.0029\n",
      "Epoch 41/100\n",
      "38/38 [==============================] - 2s 50ms/step - loss: 0.0027\n",
      "Epoch 42/100\n",
      "38/38 [==============================] - 2s 49ms/step - loss: 0.0027\n",
      "Epoch 43/100\n",
      "38/38 [==============================] - 2s 49ms/step - loss: 0.0027\n",
      "Epoch 44/100\n",
      "38/38 [==============================] - 2s 49ms/step - loss: 0.0027\n",
      "Epoch 45/100\n",
      "38/38 [==============================] - 2s 49ms/step - loss: 0.0029\n",
      "Epoch 46/100\n",
      "38/38 [==============================] - 2s 49ms/step - loss: 0.0026\n",
      "Epoch 47/100\n",
      "38/38 [==============================] - 2s 49ms/step - loss: 0.0026\n",
      "Epoch 48/100\n",
      "38/38 [==============================] - 2s 50ms/step - loss: 0.0024\n",
      "Epoch 49/100\n",
      "38/38 [==============================] - 2s 49ms/step - loss: 0.0025\n",
      "Epoch 50/100\n",
      "38/38 [==============================] - 2s 50ms/step - loss: 0.0026\n",
      "Epoch 51/100\n",
      "38/38 [==============================] - 2s 56ms/step - loss: 0.0026\n",
      "Epoch 52/100\n",
      "38/38 [==============================] - 2s 54ms/step - loss: 0.0026\n",
      "Epoch 53/100\n",
      "38/38 [==============================] - 2s 54ms/step - loss: 0.0026\n",
      "Epoch 54/100\n",
      "38/38 [==============================] - 2s 49ms/step - loss: 0.0025\n",
      "Epoch 55/100\n",
      "38/38 [==============================] - 2s 47ms/step - loss: 0.0027\n",
      "Epoch 56/100\n",
      "38/38 [==============================] - 2s 48ms/step - loss: 0.0024\n",
      "Epoch 57/100\n",
      "38/38 [==============================] - 2s 49ms/step - loss: 0.0022\n",
      "Epoch 58/100\n",
      "38/38 [==============================] - 2s 51ms/step - loss: 0.0025\n",
      "Epoch 59/100\n",
      "38/38 [==============================] - 2s 51ms/step - loss: 0.0022\n",
      "Epoch 60/100\n",
      "38/38 [==============================] - 2s 51ms/step - loss: 0.0022\n",
      "Epoch 61/100\n",
      "38/38 [==============================] - 2s 50ms/step - loss: 0.0024\n",
      "Epoch 62/100\n",
      "38/38 [==============================] - 2s 51ms/step - loss: 0.0024\n",
      "Epoch 63/100\n",
      "38/38 [==============================] - 2s 51ms/step - loss: 0.0023\n",
      "Epoch 64/100\n",
      "38/38 [==============================] - 2s 50ms/step - loss: 0.0023\n",
      "Epoch 65/100\n",
      "38/38 [==============================] - 2s 49ms/step - loss: 0.0022\n",
      "Epoch 66/100\n",
      "38/38 [==============================] - 2s 49ms/step - loss: 0.0023\n",
      "Epoch 67/100\n",
      "38/38 [==============================] - 2s 50ms/step - loss: 0.0021\n",
      "Epoch 68/100\n",
      "38/38 [==============================] - 2s 50ms/step - loss: 0.0022\n",
      "Epoch 69/100\n",
      "38/38 [==============================] - 2s 50ms/step - loss: 0.0022\n",
      "Epoch 70/100\n",
      "38/38 [==============================] - 2s 49ms/step - loss: 0.0022\n",
      "Epoch 71/100\n",
      "38/38 [==============================] - 2s 49ms/step - loss: 0.0022\n",
      "Epoch 72/100\n",
      "38/38 [==============================] - 2s 49ms/step - loss: 0.0020\n",
      "Epoch 73/100\n",
      "38/38 [==============================] - 2s 50ms/step - loss: 0.0020\n",
      "Epoch 74/100\n",
      "38/38 [==============================] - 2s 50ms/step - loss: 0.0019\n",
      "Epoch 75/100\n",
      "38/38 [==============================] - 2s 50ms/step - loss: 0.0021\n",
      "Epoch 76/100\n",
      "38/38 [==============================] - 2s 50ms/step - loss: 0.0021\n",
      "Epoch 77/100\n",
      "38/38 [==============================] - 2s 51ms/step - loss: 0.0019\n",
      "Epoch 78/100\n",
      "38/38 [==============================] - 2s 48ms/step - loss: 0.0022\n",
      "Epoch 79/100\n",
      "38/38 [==============================] - 2s 50ms/step - loss: 0.0019\n",
      "Epoch 80/100\n",
      "38/38 [==============================] - 2s 52ms/step - loss: 0.0020\n",
      "Epoch 81/100\n",
      "38/38 [==============================] - 2s 52ms/step - loss: 0.0018\n",
      "Epoch 82/100\n",
      "38/38 [==============================] - 2s 54ms/step - loss: 0.0021\n",
      "Epoch 83/100\n",
      "38/38 [==============================] - 2s 54ms/step - loss: 0.0019\n",
      "Epoch 84/100\n",
      "38/38 [==============================] - 2s 54ms/step - loss: 0.0019\n",
      "Epoch 85/100\n",
      "38/38 [==============================] - 2s 48ms/step - loss: 0.0019\n",
      "Epoch 86/100\n",
      "38/38 [==============================] - 2s 52ms/step - loss: 0.0019\n",
      "Epoch 87/100\n",
      "38/38 [==============================] - 2s 53ms/step - loss: 0.0019\n",
      "Epoch 88/100\n",
      "38/38 [==============================] - 2s 48ms/step - loss: 0.0019\n",
      "Epoch 89/100\n",
      "38/38 [==============================] - 2s 51ms/step - loss: 0.0020\n",
      "Epoch 90/100\n",
      "38/38 [==============================] - 2s 53ms/step - loss: 0.0018\n",
      "Epoch 91/100\n",
      "38/38 [==============================] - 2s 53ms/step - loss: 0.0018\n",
      "Epoch 92/100\n",
      "38/38 [==============================] - 2s 53ms/step - loss: 0.0017\n",
      "Epoch 93/100\n",
      "38/38 [==============================] - 2s 53ms/step - loss: 0.0019\n",
      "Epoch 94/100\n",
      "38/38 [==============================] - 2s 46ms/step - loss: 0.0019\n",
      "Epoch 95/100\n",
      "38/38 [==============================] - 2s 49ms/step - loss: 0.0019\n",
      "Epoch 96/100\n",
      "38/38 [==============================] - 2s 51ms/step - loss: 0.0015\n",
      "Epoch 97/100\n",
      "38/38 [==============================] - 2s 51ms/step - loss: 0.0019\n",
      "Epoch 98/100\n",
      "38/38 [==============================] - 2s 51ms/step - loss: 0.0017\n",
      "Epoch 99/100\n",
      "38/38 [==============================] - 2s 51ms/step - loss: 0.0018\n",
      "Epoch 100/100\n",
      "38/38 [==============================] - 2s 51ms/step - loss: 0.0019\n"
     ]
    },
    {
     "data": {
      "text/plain": [
       "<keras.src.callbacks.History at 0x7f0d1850ca30>"
      ]
     },
     "execution_count": 12,
     "metadata": {},
     "output_type": "execute_result"
    }
   ],
   "source": [
    "regressor.fit(X_train, y_train, epochs = 100, batch_size = 32)"
   ]
  },
  {
   "cell_type": "markdown",
   "metadata": {
    "colab_type": "text",
    "id": "4hRau_lIkrE8"
   },
   "source": [
    "## Part 3 - Making the predictions and visualising the results"
   ]
  },
  {
   "cell_type": "markdown",
   "metadata": {
    "colab_type": "text",
    "id": "SgJO6qEDksxD"
   },
   "source": [
    "### Getting the real stock price of 2017"
   ]
  },
  {
   "cell_type": "code",
   "execution_count": 13,
   "metadata": {},
   "outputs": [],
   "source": [
    "dataset_test = pd.read_csv('Data/Google_Stock_Price_Test.csv')\n",
    "real_stock_price = dataset_test.iloc[:, 1:2].values"
   ]
  },
  {
   "cell_type": "markdown",
   "metadata": {
    "colab_type": "text",
    "id": "GrvrLblxkz42"
   },
   "source": [
    "### Getting the predicted stock price of 2017"
   ]
  },
  {
   "cell_type": "code",
   "execution_count": 14,
   "metadata": {},
   "outputs": [
    {
     "name": "stdout",
     "output_type": "stream",
     "text": [
      "1/1 [==============================] - 1s 780ms/step\n"
     ]
    }
   ],
   "source": [
    "dataset_total = pd.concat((dataset_train['Open'], dataset_test['Open']), axis = 0)\n",
    "inputs = dataset_total[len(dataset_total) - len(dataset_test) - 60:].values\n",
    "inputs = inputs.reshape(-1,1)\n",
    "inputs = sc.transform(inputs)\n",
    "X_test = []\n",
    "for i in range(60, 80):\n",
    "    X_test.append(inputs[i-60:i, 0])\n",
    "X_test = np.array(X_test)\n",
    "X_test = np.reshape(X_test, (X_test.shape[0], X_test.shape[1], 1))\n",
    "predicted_stock_price = regressor.predict(X_test)\n",
    "predicted_stock_price = sc.inverse_transform(predicted_stock_price)"
   ]
  },
  {
   "cell_type": "markdown",
   "metadata": {
    "colab_type": "text",
    "id": "iFTNs3YHk6FQ"
   },
   "source": [
    "### Visualising the results"
   ]
  },
  {
   "cell_type": "code",
   "execution_count": 15,
   "metadata": {},
   "outputs": [
    {
     "data": {
      "image/png": "[encoded data removed]",
      "text/plain": [
       "<Figure size 640x480 with 1 Axes>"
      ]
     },
     "metadata": {},
     "output_type": "display_data"
    }
   ],
   "source": [
    "plt.plot(real_stock_price, color = 'red', label = 'Real Google Stock Price')\n",
    "plt.plot(predicted_stock_price, color = 'blue', label = 'Predicted Google Stock Price')\n",
    "plt.title('Google Stock Price Prediction')\n",
    "plt.xlabel('Time')\n",
    "plt.ylabel('Google Stock Price')\n",
    "plt.legend()\n",
    "plt.show()"
   ]
  },
  {
   "cell_type": "markdown",
   "metadata": {},
   "source": [
    "## Part 4 - Testing Effect of Number of Layers"
   ]
  },
  {
   "cell_type": "markdown",
   "metadata": {},
   "source": [
    "### Initialising the RNN with 2 LSTM layers"
   ]
  },
  {
   "cell_type": "code",
   "execution_count": 16,
   "metadata": {},
   "outputs": [],
   "source": [
    "regressor2L = Sequential()\n",
    "\n",
    "# Adding the first LSTM layer and some Dropout regularisati\n",
    "regressor2L.add(LSTM(units = 60, return_sequences = True, input_shape = (X_train.shape[1], 1)))\n",
    "regressor2L.add(Dropout(0.2))\n",
    "\n",
    "# Adding a second LSTM layer and some Dropout regularisation\n",
    "regressor2L.add(LSTM(units = 60))\n",
    "regressor2L.add(Dropout(0.2))\n",
    "\n",
    "# Adding the output layer\n",
    "regressor2L.add(Dense(units = 1))"
   ]
  },
  {
   "cell_type": "code",
   "execution_count": 17,
   "metadata": {},
   "outputs": [],
   "source": [
    "regressor2L.compile(optimizer = 'RMSprop', loss = 'mean_squared_error')"
   ]
  },
  {
   "cell_type": "code",
   "execution_count": 18,
   "metadata": {},
   "outputs": [
    {
     "name": "stdout",
     "output_type": "stream",
     "text": [
      "Epoch 1/100\n",
      "38/38 [==============================] - 3s 22ms/step - loss: 0.0282\n",
      "Epoch 2/100\n",
      "38/38 [==============================] - 1s 22ms/step - loss: 0.0079\n",
      "Epoch 3/100\n",
      "38/38 [==============================] - 1s 22ms/step - loss: 0.0060\n",
      "Epoch 4/100\n",
      "38/38 [==============================] - 1s 23ms/step - loss: 0.0053\n",
      "Epoch 5/100\n",
      "38/38 [==============================] - 1s 23ms/step - loss: 0.0055\n",
      "Epoch 6/100\n",
      "38/38 [==============================] - 1s 23ms/step - loss: 0.0045\n",
      "Epoch 7/100\n",
      "38/38 [==============================] - 1s 23ms/step - loss: 0.0048\n",
      "Epoch 8/100\n",
      "38/38 [==============================] - 1s 23ms/step - loss: 0.0039\n",
      "Epoch 9/100\n",
      "38/38 [==============================] - 1s 23ms/step - loss: 0.0040\n",
      "Epoch 10/100\n",
      "38/38 [==============================] - 1s 23ms/step - loss: 0.0039\n",
      "Epoch 11/100\n",
      "38/38 [==============================] - 1s 23ms/step - loss: 0.0042\n",
      "Epoch 12/100\n",
      "38/38 [==============================] - 1s 23ms/step - loss: 0.0038\n",
      "Epoch 13/100\n",
      "38/38 [==============================] - 1s 23ms/step - loss: 0.0034\n",
      "Epoch 14/100\n",
      "38/38 [==============================] - 1s 24ms/step - loss: 0.0032\n",
      "Epoch 15/100\n",
      "38/38 [==============================] - 1s 24ms/step - loss: 0.0036\n",
      "Epoch 16/100\n",
      "38/38 [==============================] - 1s 23ms/step - loss: 0.0031\n",
      "Epoch 17/100\n",
      "38/38 [==============================] - 1s 24ms/step - loss: 0.0032\n",
      "Epoch 18/100\n",
      "38/38 [==============================] - 1s 25ms/step - loss: 0.0031\n",
      "Epoch 19/100\n",
      "38/38 [==============================] - 1s 23ms/step - loss: 0.0030\n",
      "Epoch 20/100\n",
      "38/38 [==============================] - 1s 24ms/step - loss: 0.0032\n",
      "Epoch 21/100\n",
      "38/38 [==============================] - 1s 23ms/step - loss: 0.0029\n",
      "Epoch 22/100\n",
      "38/38 [==============================] - 1s 23ms/step - loss: 0.0026\n",
      "Epoch 23/100\n",
      "38/38 [==============================] - 1s 23ms/step - loss: 0.0029\n",
      "Epoch 24/100\n",
      "38/38 [==============================] - 1s 24ms/step - loss: 0.0027\n",
      "Epoch 25/100\n",
      "38/38 [==============================] - 1s 23ms/step - loss: 0.0025\n",
      "Epoch 26/100\n",
      "38/38 [==============================] - 1s 24ms/step - loss: 0.0031\n",
      "Epoch 27/100\n",
      "38/38 [==============================] - 1s 24ms/step - loss: 0.0025\n",
      "Epoch 28/100\n",
      "38/38 [==============================] - 1s 24ms/step - loss: 0.0026\n",
      "Epoch 29/100\n",
      "38/38 [==============================] - 1s 24ms/step - loss: 0.0024\n",
      "Epoch 30/100\n",
      "38/38 [==============================] - 1s 23ms/step - loss: 0.0023\n",
      "Epoch 31/100\n",
      "38/38 [==============================] - 1s 24ms/step - loss: 0.0025\n",
      "Epoch 32/100\n",
      "38/38 [==============================] - 1s 24ms/step - loss: 0.0026\n",
      "Epoch 33/100\n",
      "38/38 [==============================] - 1s 25ms/step - loss: 0.0024\n",
      "Epoch 34/100\n",
      "38/38 [==============================] - 1s 24ms/step - loss: 0.0023\n",
      "Epoch 35/100\n",
      "38/38 [==============================] - 1s 24ms/step - loss: 0.0022\n",
      "Epoch 36/100\n",
      "38/38 [==============================] - 1s 24ms/step - loss: 0.0023\n",
      "Epoch 37/100\n",
      "38/38 [==============================] - 1s 23ms/step - loss: 0.0020\n",
      "Epoch 38/100\n",
      "38/38 [==============================] - 1s 24ms/step - loss: 0.0021\n",
      "Epoch 39/100\n",
      "38/38 [==============================] - 1s 24ms/step - loss: 0.0022\n",
      "Epoch 40/100\n",
      "38/38 [==============================] - 1s 24ms/step - loss: 0.0019\n",
      "Epoch 41/100\n",
      "38/38 [==============================] - 1s 24ms/step - loss: 0.0018\n",
      "Epoch 42/100\n",
      "38/38 [==============================] - 1s 23ms/step - loss: 0.0021\n",
      "Epoch 43/100\n",
      "38/38 [==============================] - 1s 23ms/step - loss: 0.0021\n",
      "Epoch 44/100\n",
      "38/38 [==============================] - 1s 24ms/step - loss: 0.0020\n",
      "Epoch 45/100\n",
      "38/38 [==============================] - 1s 24ms/step - loss: 0.0018\n",
      "Epoch 46/100\n",
      "38/38 [==============================] - 1s 23ms/step - loss: 0.0019\n",
      "Epoch 47/100\n",
      "38/38 [==============================] - 1s 24ms/step - loss: 0.0019\n",
      "Epoch 48/100\n",
      "38/38 [==============================] - 1s 23ms/step - loss: 0.0016\n",
      "Epoch 49/100\n",
      "38/38 [==============================] - 1s 23ms/step - loss: 0.0020\n",
      "Epoch 50/100\n",
      "38/38 [==============================] - 1s 24ms/step - loss: 0.0018\n",
      "Epoch 51/100\n",
      "38/38 [==============================] - 1s 23ms/step - loss: 0.0017\n",
      "Epoch 52/100\n",
      "38/38 [==============================] - 1s 23ms/step - loss: 0.0017\n",
      "Epoch 53/100\n",
      "38/38 [==============================] - 1s 27ms/step - loss: 0.0017\n",
      "Epoch 54/100\n",
      "38/38 [==============================] - 1s 26ms/step - loss: 0.0017\n",
      "Epoch 55/100\n",
      "38/38 [==============================] - 1s 25ms/step - loss: 0.0017\n",
      "Epoch 56/100\n",
      "38/38 [==============================] - 1s 27ms/step - loss: 0.0017\n",
      "Epoch 57/100\n",
      "38/38 [==============================] - 1s 25ms/step - loss: 0.0016\n",
      "Epoch 58/100\n",
      "38/38 [==============================] - 1s 27ms/step - loss: 0.0017\n",
      "Epoch 59/100\n",
      "38/38 [==============================] - 1s 24ms/step - loss: 0.0016\n",
      "Epoch 60/100\n",
      "38/38 [==============================] - 1s 25ms/step - loss: 0.0015\n",
      "Epoch 61/100\n",
      "38/38 [==============================] - 1s 25ms/step - loss: 0.0017\n",
      "Epoch 62/100\n",
      "38/38 [==============================] - 1s 24ms/step - loss: 0.0016\n",
      "Epoch 63/100\n",
      "38/38 [==============================] - 1s 27ms/step - loss: 0.0016\n",
      "Epoch 64/100\n",
      "38/38 [==============================] - 1s 25ms/step - loss: 0.0015\n",
      "Epoch 65/100\n",
      "38/38 [==============================] - 1s 24ms/step - loss: 0.0015\n",
      "Epoch 66/100\n",
      "38/38 [==============================] - 1s 25ms/step - loss: 0.0015\n",
      "Epoch 67/100\n",
      "38/38 [==============================] - 1s 25ms/step - loss: 0.0015\n",
      "Epoch 68/100\n",
      "38/38 [==============================] - 1s 25ms/step - loss: 0.0015\n",
      "Epoch 69/100\n",
      "38/38 [==============================] - 1s 25ms/step - loss: 0.0016\n",
      "Epoch 70/100\n",
      "38/38 [==============================] - 1s 24ms/step - loss: 0.0015\n",
      "Epoch 71/100\n",
      "38/38 [==============================] - 1s 25ms/step - loss: 0.0015\n",
      "Epoch 72/100\n",
      "38/38 [==============================] - 1s 27ms/step - loss: 0.0014\n",
      "Epoch 73/100\n",
      "38/38 [==============================] - 1s 30ms/step - loss: 0.0014\n",
      "Epoch 74/100\n",
      "38/38 [==============================] - 1s 31ms/step - loss: 0.0013\n",
      "Epoch 75/100\n",
      "38/38 [==============================] - 1s 27ms/step - loss: 0.0014\n",
      "Epoch 76/100\n",
      "38/38 [==============================] - 1s 24ms/step - loss: 0.0014\n",
      "Epoch 77/100\n",
      "38/38 [==============================] - 1s 25ms/step - loss: 0.0014\n",
      "Epoch 78/100\n",
      "38/38 [==============================] - 1s 24ms/step - loss: 0.0014\n",
      "Epoch 79/100\n",
      "38/38 [==============================] - 1s 24ms/step - loss: 0.0013\n",
      "Epoch 80/100\n",
      "38/38 [==============================] - 1s 25ms/step - loss: 0.0013\n",
      "Epoch 81/100\n",
      "38/38 [==============================] - 1s 25ms/step - loss: 0.0013\n",
      "Epoch 82/100\n",
      "38/38 [==============================] - 1s 24ms/step - loss: 0.0012\n",
      "Epoch 83/100\n",
      "38/38 [==============================] - 1s 24ms/step - loss: 0.0014\n",
      "Epoch 84/100\n",
      "38/38 [==============================] - 1s 24ms/step - loss: 0.0014\n",
      "Epoch 85/100\n",
      "38/38 [==============================] - 1s 24ms/step - loss: 0.0013\n",
      "Epoch 86/100\n",
      "38/38 [==============================] - 1s 25ms/step - loss: 0.0013\n",
      "Epoch 87/100\n",
      "38/38 [==============================] - 1s 25ms/step - loss: 0.0011\n",
      "Epoch 88/100\n",
      "38/38 [==============================] - 1s 25ms/step - loss: 0.0013\n",
      "Epoch 89/100\n",
      "38/38 [==============================] - 1s 24ms/step - loss: 0.0012\n",
      "Epoch 90/100\n",
      "38/38 [==============================] - 1s 24ms/step - loss: 0.0012\n",
      "Epoch 91/100\n",
      "38/38 [==============================] - 1s 25ms/step - loss: 0.0012\n",
      "Epoch 92/100\n",
      "38/38 [==============================] - 1s 25ms/step - loss: 0.0012\n",
      "Epoch 93/100\n",
      "38/38 [==============================] - 1s 23ms/step - loss: 0.0012\n",
      "Epoch 94/100\n",
      "38/38 [==============================] - 1s 24ms/step - loss: 0.0011\n",
      "Epoch 95/100\n",
      "38/38 [==============================] - 1s 25ms/step - loss: 0.0013\n",
      "Epoch 96/100\n",
      "38/38 [==============================] - 1s 24ms/step - loss: 0.0011\n",
      "Epoch 97/100\n",
      "38/38 [==============================] - 1s 25ms/step - loss: 0.0012\n",
      "Epoch 98/100\n",
      "38/38 [==============================] - 1s 25ms/step - loss: 0.0011\n",
      "Epoch 99/100\n",
      "38/38 [==============================] - 1s 25ms/step - loss: 0.0011\n",
      "Epoch 100/100\n",
      "38/38 [==============================] - 1s 25ms/step - loss: 0.0012\n"
     ]
    },
    {
     "data": {
      "text/plain": [
       "<keras.src.callbacks.History at 0x7f0cf6502f10>"
      ]
     },
     "execution_count": 18,
     "metadata": {},
     "output_type": "execute_result"
    }
   ],
   "source": [
    "regressor2L.fit(X_train, y_train, epochs = 100, batch_size = 32)"
   ]
  },
  {
   "cell_type": "code",
   "execution_count": 19,
   "metadata": {},
   "outputs": [
    {
     "name": "stdout",
     "output_type": "stream",
     "text": [
      "1/1 [==============================] - 0s 403ms/step\n"
     ]
    }
   ],
   "source": [
    "predicted_stock_price2L = regressor2L.predict(X_test)\n",
    "predicted_stock_price2L = sc.inverse_transform(predicted_stock_price2L)"
   ]
  },
  {
   "cell_type": "code",
   "execution_count": 20,
   "metadata": {},
   "outputs": [
    {
     "data": {
      "image/png": "[encoded data removed]",
      "text/plain": [
       "<Figure size 640x480 with 1 Axes>"
      ]
     },
     "metadata": {},
     "output_type": "display_data"
    }
   ],
   "source": [
    "plt.plot(real_stock_price, color = 'red', label = 'Real Google Stock Price')\n",
    "plt.plot(predicted_stock_price, color = 'blue', label = 'Predicted Google Stock Price (4 LSTMS)')\n",
    "plt.plot(predicted_stock_price2L, color = 'gold', label = 'Predicted Google Stock Price (2 LSTMS)')\n",
    "plt.title('Google Stock Price Prediction')\n",
    "plt.xlabel('Time')\n",
    "plt.ylabel('Google Stock Price')\n",
    "plt.legend()\n",
    "plt.show()"
   ]
  },
  {
   "cell_type": "markdown",
   "metadata": {},
   "source": [
    "    Less LSTMS seems more accurate to reality reacting to changes quicker"
   ]
  },
  {
   "cell_type": "markdown",
   "metadata": {},
   "source": [
    "## Part 5 - Testing Effect of Number of Timesteps"
   ]
  },
  {
   "cell_type": "markdown",
   "metadata": {},
   "source": [
    "### Creating a data structure with 20 timesteps and 1 output"
   ]
  },
  {
   "cell_type": "code",
   "execution_count": 21,
   "metadata": {},
   "outputs": [],
   "source": [
    "X_train20 = []\n",
    "y_train20 = []\n",
    "for i in range(20,1258):\n",
    "    X_train20.append(training_set_scaled[i-20:i, 0])\n",
    "    y_train20.append(training_set_scaled[i, 0])\n",
    "X_train20, y_train20 = np.array(X_train20), np.array(y_train20)"
   ]
  },
  {
   "cell_type": "code",
   "execution_count": 22,
   "metadata": {},
   "outputs": [],
   "source": [
    "X_train20 = np.reshape(X_train20, (X_train20.shape[0], X_train20.shape[1], 1))"
   ]
  },
  {
   "cell_type": "markdown",
   "metadata": {},
   "source": [
    "### Initialising the RNN"
   ]
  },
  {
   "cell_type": "code",
   "execution_count": 23,
   "metadata": {},
   "outputs": [],
   "source": [
    "regressor20 = Sequential()\n",
    "\n",
    "# Adding the first LSTM layer and some Dropout regularisati\n",
    "regressor20.add(LSTM(units = 60, return_sequences = True, input_shape = (X_train20.shape[1], 1)))\n",
    "\n",
    "# Adding a secind LSTM layer and some Dropout regularisation\n",
    "regressor20.add(LSTM(units = 60))\n",
    "regressor.add(Dropout(0.2))\n",
    "\n",
    "# Adding the output layer\n",
    "regressor20.add(Dense(units = 1))"
   ]
  },
  {
   "cell_type": "code",
   "execution_count": 24,
   "metadata": {},
   "outputs": [],
   "source": [
    "regressor20.compile(optimizer = 'RMSprop', loss = 'mean_squared_error')"
   ]
  },
  {
   "cell_type": "code",
   "execution_count": 25,
   "metadata": {},
   "outputs": [
    {
     "name": "stdout",
     "output_type": "stream",
     "text": [
      "Epoch 1/100\n",
      "39/39 [==============================] - 2s 9ms/step - loss: 0.0149\n",
      "Epoch 2/100\n",
      "39/39 [==============================] - 0s 9ms/step - loss: 0.0043\n",
      "Epoch 3/100\n",
      "39/39 [==============================] - 0s 9ms/step - loss: 0.0034\n",
      "Epoch 4/100\n",
      "39/39 [==============================] - 0s 9ms/step - loss: 0.0027\n",
      "Epoch 5/100\n",
      "39/39 [==============================] - 0s 9ms/step - loss: 0.0026\n",
      "Epoch 6/100\n",
      "39/39 [==============================] - 0s 9ms/step - loss: 0.0028\n",
      "Epoch 7/100\n",
      "39/39 [==============================] - 0s 9ms/step - loss: 0.0024\n",
      "Epoch 8/100\n",
      "39/39 [==============================] - 0s 9ms/step - loss: 0.0019\n",
      "Epoch 9/100\n",
      "39/39 [==============================] - 0s 9ms/step - loss: 0.0022\n",
      "Epoch 10/100\n",
      "39/39 [==============================] - 0s 9ms/step - loss: 0.0018\n",
      "Epoch 11/100\n",
      "39/39 [==============================] - 0s 9ms/step - loss: 0.0019\n",
      "Epoch 12/100\n",
      "39/39 [==============================] - 0s 9ms/step - loss: 0.0019\n",
      "Epoch 13/100\n",
      "39/39 [==============================] - 0s 9ms/step - loss: 0.0017\n",
      "Epoch 14/100\n",
      "39/39 [==============================] - 0s 9ms/step - loss: 0.0016\n",
      "Epoch 15/100\n",
      "39/39 [==============================] - 0s 9ms/step - loss: 0.0014\n",
      "Epoch 16/100\n",
      "39/39 [==============================] - 0s 9ms/step - loss: 0.0018\n",
      "Epoch 17/100\n",
      "39/39 [==============================] - 0s 9ms/step - loss: 0.0015\n",
      "Epoch 18/100\n",
      "39/39 [==============================] - 0s 9ms/step - loss: 0.0016\n",
      "Epoch 19/100\n",
      "39/39 [==============================] - 0s 9ms/step - loss: 0.0014\n",
      "Epoch 20/100\n",
      "39/39 [==============================] - 0s 9ms/step - loss: 0.0013\n",
      "Epoch 21/100\n",
      "39/39 [==============================] - 0s 9ms/step - loss: 0.0013\n",
      "Epoch 22/100\n",
      "39/39 [==============================] - 0s 9ms/step - loss: 0.0016\n",
      "Epoch 23/100\n",
      "39/39 [==============================] - 0s 9ms/step - loss: 0.0012\n",
      "Epoch 24/100\n",
      "39/39 [==============================] - 0s 9ms/step - loss: 0.0012\n",
      "Epoch 25/100\n",
      "39/39 [==============================] - 0s 9ms/step - loss: 0.0012\n",
      "Epoch 26/100\n",
      "39/39 [==============================] - 0s 9ms/step - loss: 0.0011\n",
      "Epoch 27/100\n",
      "39/39 [==============================] - 0s 9ms/step - loss: 0.0012\n",
      "Epoch 28/100\n",
      "39/39 [==============================] - 0s 9ms/step - loss: 0.0011\n",
      "Epoch 29/100\n",
      "39/39 [==============================] - 0s 9ms/step - loss: 0.0011\n",
      "Epoch 30/100\n",
      "39/39 [==============================] - 0s 9ms/step - loss: 0.0012\n",
      "Epoch 31/100\n",
      "39/39 [==============================] - 0s 9ms/step - loss: 0.0011\n",
      "Epoch 32/100\n",
      "39/39 [==============================] - 0s 9ms/step - loss: 0.0010\n",
      "Epoch 33/100\n",
      "39/39 [==============================] - 0s 9ms/step - loss: 0.0011\n",
      "Epoch 34/100\n",
      "39/39 [==============================] - 0s 9ms/step - loss: 8.3253e-04\n",
      "Epoch 35/100\n",
      "39/39 [==============================] - 0s 9ms/step - loss: 9.9134e-04\n",
      "Epoch 36/100\n",
      "39/39 [==============================] - 0s 9ms/step - loss: 0.0011\n",
      "Epoch 37/100\n",
      "39/39 [==============================] - 0s 9ms/step - loss: 9.8252e-04\n",
      "Epoch 38/100\n",
      "39/39 [==============================] - 0s 9ms/step - loss: 8.8272e-04\n",
      "Epoch 39/100\n",
      "39/39 [==============================] - 0s 9ms/step - loss: 9.7384e-04\n",
      "Epoch 40/100\n",
      "39/39 [==============================] - 0s 9ms/step - loss: 8.5924e-04\n",
      "Epoch 41/100\n",
      "39/39 [==============================] - 0s 9ms/step - loss: 9.6127e-04\n",
      "Epoch 42/100\n",
      "39/39 [==============================] - 0s 9ms/step - loss: 9.1141e-04\n",
      "Epoch 43/100\n",
      "39/39 [==============================] - 0s 9ms/step - loss: 8.9908e-04\n",
      "Epoch 44/100\n",
      "39/39 [==============================] - 0s 9ms/step - loss: 8.3579e-04\n",
      "Epoch 45/100\n",
      "39/39 [==============================] - 0s 9ms/step - loss: 8.3201e-04\n",
      "Epoch 46/100\n",
      "39/39 [==============================] - 0s 9ms/step - loss: 8.2506e-04\n",
      "Epoch 47/100\n",
      "39/39 [==============================] - 0s 9ms/step - loss: 8.9343e-04\n",
      "Epoch 48/100\n",
      "39/39 [==============================] - 0s 9ms/step - loss: 8.0428e-04\n",
      "Epoch 49/100\n",
      "39/39 [==============================] - 0s 9ms/step - loss: 8.4361e-04\n",
      "Epoch 50/100\n",
      "39/39 [==============================] - 0s 9ms/step - loss: 8.2194e-04\n",
      "Epoch 51/100\n",
      "39/39 [==============================] - 0s 9ms/step - loss: 7.4050e-04\n",
      "Epoch 52/100\n",
      "39/39 [==============================] - 0s 9ms/step - loss: 7.8545e-04\n",
      "Epoch 53/100\n",
      "39/39 [==============================] - 0s 9ms/step - loss: 7.5889e-04\n",
      "Epoch 54/100\n",
      "39/39 [==============================] - 0s 9ms/step - loss: 7.6900e-04\n",
      "Epoch 55/100\n",
      "39/39 [==============================] - 0s 9ms/step - loss: 7.2248e-04\n",
      "Epoch 56/100\n",
      "39/39 [==============================] - 0s 9ms/step - loss: 6.8775e-04\n",
      "Epoch 57/100\n",
      "39/39 [==============================] - 0s 9ms/step - loss: 9.4128e-04\n",
      "Epoch 58/100\n",
      "39/39 [==============================] - 0s 9ms/step - loss: 7.1627e-04\n",
      "Epoch 59/100\n",
      "39/39 [==============================] - 0s 9ms/step - loss: 7.3786e-04\n",
      "Epoch 60/100\n",
      "39/39 [==============================] - 0s 9ms/step - loss: 6.7339e-04\n",
      "Epoch 61/100\n",
      "39/39 [==============================] - 0s 9ms/step - loss: 7.3198e-04\n",
      "Epoch 62/100\n",
      "39/39 [==============================] - 0s 9ms/step - loss: 6.6305e-04\n",
      "Epoch 63/100\n",
      "39/39 [==============================] - 0s 9ms/step - loss: 7.2380e-04\n",
      "Epoch 64/100\n",
      "39/39 [==============================] - 0s 9ms/step - loss: 6.5612e-04\n",
      "Epoch 65/100\n",
      "39/39 [==============================] - 0s 9ms/step - loss: 7.2263e-04\n",
      "Epoch 66/100\n",
      "39/39 [==============================] - 0s 9ms/step - loss: 6.2887e-04\n",
      "Epoch 67/100\n",
      "39/39 [==============================] - 0s 9ms/step - loss: 6.4408e-04\n",
      "Epoch 68/100\n",
      "39/39 [==============================] - 0s 9ms/step - loss: 6.5684e-04\n",
      "Epoch 69/100\n",
      "39/39 [==============================] - 0s 9ms/step - loss: 6.6482e-04\n",
      "Epoch 70/100\n",
      "39/39 [==============================] - 0s 9ms/step - loss: 6.7483e-04\n",
      "Epoch 71/100\n",
      "39/39 [==============================] - 0s 9ms/step - loss: 5.9989e-04\n",
      "Epoch 72/100\n",
      "39/39 [==============================] - 0s 9ms/step - loss: 6.7869e-04\n",
      "Epoch 73/100\n",
      "39/39 [==============================] - 0s 9ms/step - loss: 6.1980e-04\n",
      "Epoch 74/100\n",
      "39/39 [==============================] - 0s 9ms/step - loss: 6.2679e-04\n",
      "Epoch 75/100\n",
      "39/39 [==============================] - 0s 9ms/step - loss: 5.7047e-04\n",
      "Epoch 76/100\n",
      "39/39 [==============================] - 0s 9ms/step - loss: 6.1609e-04\n",
      "Epoch 77/100\n",
      "39/39 [==============================] - 0s 9ms/step - loss: 6.7558e-04\n",
      "Epoch 78/100\n",
      "39/39 [==============================] - 0s 9ms/step - loss: 6.8595e-04\n",
      "Epoch 79/100\n",
      "39/39 [==============================] - 0s 9ms/step - loss: 5.7338e-04\n",
      "Epoch 80/100\n",
      "39/39 [==============================] - 0s 9ms/step - loss: 6.6141e-04\n",
      "Epoch 81/100\n",
      "39/39 [==============================] - 0s 9ms/step - loss: 6.0098e-04\n",
      "Epoch 82/100\n",
      "39/39 [==============================] - 0s 9ms/step - loss: 5.3117e-04\n",
      "Epoch 83/100\n",
      "39/39 [==============================] - 0s 9ms/step - loss: 5.5353e-04\n",
      "Epoch 84/100\n",
      "39/39 [==============================] - 0s 9ms/step - loss: 6.0392e-04\n",
      "Epoch 85/100\n",
      "39/39 [==============================] - 0s 9ms/step - loss: 5.9210e-04\n",
      "Epoch 86/100\n",
      "39/39 [==============================] - 0s 9ms/step - loss: 5.9873e-04\n",
      "Epoch 87/100\n",
      "39/39 [==============================] - 0s 9ms/step - loss: 5.5316e-04\n",
      "Epoch 88/100\n",
      "39/39 [==============================] - 0s 9ms/step - loss: 5.8550e-04\n",
      "Epoch 89/100\n",
      "39/39 [==============================] - 0s 9ms/step - loss: 5.9361e-04\n",
      "Epoch 90/100\n",
      "39/39 [==============================] - 0s 9ms/step - loss: 5.6837e-04\n",
      "Epoch 91/100\n",
      "39/39 [==============================] - 0s 9ms/step - loss: 5.8896e-04\n",
      "Epoch 92/100\n",
      "39/39 [==============================] - 0s 9ms/step - loss: 5.6379e-04\n",
      "Epoch 93/100\n",
      "39/39 [==============================] - 0s 9ms/step - loss: 5.5499e-04\n",
      "Epoch 94/100\n",
      "39/39 [==============================] - 0s 9ms/step - loss: 5.1423e-04\n",
      "Epoch 95/100\n",
      "39/39 [==============================] - 0s 9ms/step - loss: 5.6655e-04\n",
      "Epoch 96/100\n",
      "39/39 [==============================] - 0s 9ms/step - loss: 5.5006e-04\n",
      "Epoch 97/100\n",
      "39/39 [==============================] - 0s 9ms/step - loss: 5.9029e-04\n",
      "Epoch 98/100\n",
      "39/39 [==============================] - 0s 9ms/step - loss: 5.1401e-04\n",
      "Epoch 99/100\n"
     ]
    },
    {
     "name": "stdout",
     "output_type": "stream",
     "text": [
      "39/39 [==============================] - 0s 9ms/step - loss: 5.3978e-04\n",
      "Epoch 100/100\n",
      "39/39 [==============================] - 0s 9ms/step - loss: 5.5846e-04\n"
     ]
    },
    {
     "data": {
      "text/plain": [
       "<keras.src.callbacks.History at 0x7f0d18629f10>"
      ]
     },
     "execution_count": 25,
     "metadata": {},
     "output_type": "execute_result"
    }
   ],
   "source": [
    "regressor20.fit(X_train20, y_train20, epochs = 100, batch_size = 32)"
   ]
  },
  {
   "cell_type": "markdown",
   "metadata": {},
   "source": [
    "## Testing"
   ]
  },
  {
   "cell_type": "code",
   "execution_count": 26,
   "metadata": {},
   "outputs": [
    {
     "name": "stdout",
     "output_type": "stream",
     "text": [
      "1/1 [==============================] - 0s 384ms/step\n"
     ]
    }
   ],
   "source": [
    "inputs = dataset_total[len(dataset_total) - len(dataset_test) - 20:].values\n",
    "inputs = inputs.reshape(-1,1)\n",
    "inputs = sc.transform(inputs)\n",
    "X_test20 = []\n",
    "for i in range(20, 40):\n",
    "    X_test20.append(inputs[i-20:i, 0])\n",
    "X_test20 = np.array(X_test20)\n",
    "X_test20 = np.reshape(X_test20, (X_test20.shape[0], X_test20.shape[1], 1))\n",
    "predicted_stock_price20 = regressor20.predict(X_test20)\n",
    "predicted_stock_price20 = sc.inverse_transform(predicted_stock_price20)"
   ]
  },
  {
   "cell_type": "code",
   "execution_count": 29,
   "metadata": {},
   "outputs": [
    {
     "data": {
      "image/png": "[encoded data removed]",
      "text/plain": [
       "<Figure size 640x480 with 1 Axes>"
      ]
     },
     "metadata": {},
     "output_type": "display_data"
    }
   ],
   "source": [
    "plt.plot(real_stock_price, color = 'red', label = 'Real Google Stock Price')\n",
    "plt.plot(predicted_stock_price2L, color = 'gold', label = 'Predicted Google Stock Price (60 timesteps)')\n",
    "plt.plot(predicted_stock_price20, color = 'purple', label = 'Predicted Google Stock Price (20 timesteps)')\n",
    "plt.title('Google Stock Price Prediction')\n",
    "plt.xlabel('Time')\n",
    "plt.ylabel('Google Stock Price')\n",
    "plt.legend()\n",
    "plt.show()"
   ]
  },
  {
   "cell_type": "markdown",
   "metadata": {},
   "source": [
    "Less timesteps is quicker to respond to sudden changes (which makes sense intuitively)"
   ]
  },
  {
   "cell_type": "code",
   "execution_count": null,
   "metadata": {},
   "outputs": [],
   "source": []
  }
 ],
 "metadata": {
  "colab": {
   "collapsed_sections": [],
   "name": "recurrent_neural_network.ipynb",
   "provenance": []
  },
  "kernelspec": {
   "display_name": "Python 3 (ipykernel)",
   "language": "python",
   "name": "python3"
  },
  "language_info": {
   "codemirror_mode": {
    "name": "ipython",
    "version": 3
   },
   "file_extension": ".py",
   "mimetype": "text/x-python",
   "name": "python",
   "nbconvert_exporter": "python",
   "pygments_lexer": "ipython3",
   "version": "3.8.18"
  }
 },
 "nbformat": 4,
 "nbformat_minor": 1
}
