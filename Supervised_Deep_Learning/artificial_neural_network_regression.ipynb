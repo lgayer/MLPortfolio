{
 "cells": [
  {
   "cell_type": "markdown",
   "metadata": {
    "colab_type": "text",
    "id": "3cbb7fRy-eyr"
   },
   "source": [
    "# Artificial Neural Network"
   ]
  },
  {
   "cell_type": "markdown",
   "metadata": {},
   "source": [
    "Predicting energy output of power plants"
   ]
  },
  {
   "cell_type": "markdown",
   "metadata": {
    "colab_type": "text",
    "id": "8sNDnxE2-pwE"
   },
   "source": [
    "### Importing the libraries"
   ]
  },
  {
   "cell_type": "code",
   "execution_count": 2,
   "metadata": {
    "colab": {},
    "colab_type": "code",
    "id": "lxChR1Rk-umf"
   },
   "outputs": [],
   "source": [
    "import numpy as np\n",
    "import pandas as pd\n",
    "import tensorflow as tf"
   ]
  },
  {
   "cell_type": "code",
   "execution_count": 3,
   "metadata": {
    "colab": {
     "base_uri": "https://localhost:8080/",
     "height": 34
    },
    "colab_type": "code",
    "id": "uBTqR3nacj0e",
    "outputId": "4c0bd183-e424-429a-9fba-ceb841c06888"
   },
   "outputs": [
    {
     "data": {
      "text/plain": [
       "'2.13.1'"
      ]
     },
     "execution_count": 3,
     "metadata": {},
     "output_type": "execute_result"
    }
   ],
   "source": [
    "tf.__version__"
   ]
  },
  {
   "cell_type": "markdown",
   "metadata": {
    "colab_type": "text",
    "id": "AG3FQEch-yuA"
   },
   "source": [
    "## Part 1 - Data Preprocessing"
   ]
  },
  {
   "cell_type": "markdown",
   "metadata": {
    "colab_type": "text",
    "id": "-4zq8Mza_D9O"
   },
   "source": [
    "### Importing the dataset"
   ]
  },
  {
   "cell_type": "code",
   "execution_count": 5,
   "metadata": {},
   "outputs": [
    {
     "data": {
      "text/html": [
       "<div>\n",
       "<style scoped>\n",
       "    .dataframe tbody tr th:only-of-type {\n",
       "        vertical-align: middle;\n",
       "    }\n",
       "\n",
       "    .dataframe tbody tr th {\n",
       "        vertical-align: top;\n",
       "    }\n",
       "\n",
       "    .dataframe thead th {\n",
       "        text-align: right;\n",
       "    }\n",
       "</style>\n",
       "<table border=\"1\" class=\"dataframe\">\n",
       "  <thead>\n",
       "    <tr style=\"text-align: right;\">\n",
       "      <th></th>\n",
       "      <th>AT</th>\n",
       "      <th>V</th>\n",
       "      <th>AP</th>\n",
       "      <th>RH</th>\n",
       "      <th>PE</th>\n",
       "    </tr>\n",
       "  </thead>\n",
       "  <tbody>\n",
       "    <tr>\n",
       "      <th>0</th>\n",
       "      <td>14.96</td>\n",
       "      <td>41.76</td>\n",
       "      <td>1024.07</td>\n",
       "      <td>73.17</td>\n",
       "      <td>463.26</td>\n",
       "    </tr>\n",
       "    <tr>\n",
       "      <th>1</th>\n",
       "      <td>25.18</td>\n",
       "      <td>62.96</td>\n",
       "      <td>1020.04</td>\n",
       "      <td>59.08</td>\n",
       "      <td>444.37</td>\n",
       "    </tr>\n",
       "    <tr>\n",
       "      <th>2</th>\n",
       "      <td>5.11</td>\n",
       "      <td>39.40</td>\n",
       "      <td>1012.16</td>\n",
       "      <td>92.14</td>\n",
       "      <td>488.56</td>\n",
       "    </tr>\n",
       "    <tr>\n",
       "      <th>3</th>\n",
       "      <td>20.86</td>\n",
       "      <td>57.32</td>\n",
       "      <td>1010.24</td>\n",
       "      <td>76.64</td>\n",
       "      <td>446.48</td>\n",
       "    </tr>\n",
       "    <tr>\n",
       "      <th>4</th>\n",
       "      <td>10.82</td>\n",
       "      <td>37.50</td>\n",
       "      <td>1009.23</td>\n",
       "      <td>96.62</td>\n",
       "      <td>473.90</td>\n",
       "    </tr>\n",
       "  </tbody>\n",
       "</table>\n",
       "</div>"
      ],
      "text/plain": [
       "      AT      V       AP     RH      PE\n",
       "0  14.96  41.76  1024.07  73.17  463.26\n",
       "1  25.18  62.96  1020.04  59.08  444.37\n",
       "2   5.11  39.40  1012.16  92.14  488.56\n",
       "3  20.86  57.32  1010.24  76.64  446.48\n",
       "4  10.82  37.50  1009.23  96.62  473.90"
      ]
     },
     "metadata": {},
     "output_type": "display_data"
    },
    {
     "data": {
      "text/plain": [
       "(9568, 5)"
      ]
     },
     "metadata": {},
     "output_type": "display_data"
    }
   ],
   "source": [
    "dataset = pd.read_excel('Data/Folds5x2_pp.xlsx')\n",
    "display(dataset.head(), dataset.shape)"
   ]
  },
  {
   "cell_type": "code",
   "execution_count": 6,
   "metadata": {},
   "outputs": [],
   "source": [
    "X = dataset.iloc[:, :-1].values\n",
    "y = dataset.iloc[:, -1].values"
   ]
  },
  {
   "cell_type": "code",
   "execution_count": 7,
   "metadata": {},
   "outputs": [
    {
     "name": "stdout",
     "output_type": "stream",
     "text": [
      "[[  14.96   41.76 1024.07   73.17]\n",
      " [  25.18   62.96 1020.04   59.08]\n",
      " [   5.11   39.4  1012.16   92.14]\n",
      " [  20.86   57.32 1010.24   76.64]\n",
      " [  10.82   37.5  1009.23   96.62]\n",
      " [  26.27   59.44 1012.23   58.77]\n",
      " [  15.89   43.96 1014.02   75.24]\n",
      " [   9.48   44.71 1019.12   66.43]\n",
      " [  14.64   45.   1021.78   41.25]\n",
      " [  11.74   43.56 1015.14   70.72]]\n"
     ]
    }
   ],
   "source": [
    "print(X[0:10])"
   ]
  },
  {
   "cell_type": "code",
   "execution_count": 8,
   "metadata": {},
   "outputs": [
    {
     "name": "stdout",
     "output_type": "stream",
     "text": [
      "[463.26 444.37 488.56 446.48 473.9  443.67 467.35 478.42 475.98 477.5 ]\n"
     ]
    }
   ],
   "source": [
    "print(y[0:10])"
   ]
  },
  {
   "cell_type": "markdown",
   "metadata": {
    "colab_type": "text",
    "id": "VC6omXel_Up0"
   },
   "source": [
    "### Splitting the dataset into the Training set and Test set"
   ]
  },
  {
   "cell_type": "code",
   "execution_count": 9,
   "metadata": {},
   "outputs": [],
   "source": [
    "from sklearn.model_selection import train_test_split\n",
    "X_train, X_test, y_train, y_test = train_test_split(X, y, test_size = 0.2, random_state = 0)"
   ]
  },
  {
   "cell_type": "markdown",
   "metadata": {
    "colab_type": "text",
    "id": "_mSLlAT9_eyI"
   },
   "source": [
    "## Part 2 - Building the ANN"
   ]
  },
  {
   "cell_type": "markdown",
   "metadata": {
    "colab_type": "text",
    "id": "CsBULd_f_wLY"
   },
   "source": [
    "### Initializing the ANN"
   ]
  },
  {
   "cell_type": "code",
   "execution_count": 10,
   "metadata": {},
   "outputs": [],
   "source": [
    "ann = tf.keras.models.Sequential()\n",
    "\n",
    "# Adding the input layer and the first hidden layer\n",
    "ann.add(tf.keras.layers.Dense(units = 6, activation = 'relu'))\n",
    "\n",
    "# Adding the second hidden layer\n",
    "ann.add(tf.keras.layers.Dense(units = 6, activation = 'relu'))\n",
    "\n",
    "# Adding the output layer\n",
    "ann.add(tf.keras.layers.Dense(units = 1))"
   ]
  },
  {
   "cell_type": "code",
   "execution_count": 11,
   "metadata": {},
   "outputs": [
    {
     "data": {
      "text/plain": [
       "[<keras.src.layers.core.dense.Dense at 0x7f416d102af0>,\n",
       " <keras.src.layers.core.dense.Dense at 0x7f416d08a6a0>,\n",
       " <keras.src.layers.core.dense.Dense at 0x7f416d08ae80>]"
      ]
     },
     "execution_count": 11,
     "metadata": {},
     "output_type": "execute_result"
    }
   ],
   "source": [
    "ann.layers"
   ]
  },
  {
   "cell_type": "markdown",
   "metadata": {
    "colab_type": "text",
    "id": "fq7e4fF6A1yy"
   },
   "source": [
    "## Part 3 - Training the ANN"
   ]
  },
  {
   "cell_type": "markdown",
   "metadata": {
    "colab_type": "text",
    "id": "qDeylAs2An25"
   },
   "source": [
    "### Compiling the ANN"
   ]
  },
  {
   "cell_type": "code",
   "execution_count": 12,
   "metadata": {},
   "outputs": [],
   "source": [
    "# adam optimizer for gradient descent\n",
    "# mean squared error loss function as this is regression\n",
    "\n",
    "ann.compile(optimizer = 'adam', loss = 'mean_squared_error')"
   ]
  },
  {
   "cell_type": "markdown",
   "metadata": {
    "colab_type": "text",
    "id": "YjVuiybYOo7r"
   },
   "source": [
    "### Training the ANN model on the Training set"
   ]
  },
  {
   "cell_type": "code",
   "execution_count": 13,
   "metadata": {},
   "outputs": [
    {
     "name": "stdout",
     "output_type": "stream",
     "text": [
      "Epoch 1/100\n",
      "240/240 [==============================] - 1s 674us/step - loss: 104250.7500\n",
      "Epoch 2/100\n",
      "240/240 [==============================] - 0s 675us/step - loss: 258.6381\n",
      "Epoch 3/100\n",
      "240/240 [==============================] - 0s 679us/step - loss: 240.5608\n",
      "Epoch 4/100\n",
      "240/240 [==============================] - 0s 667us/step - loss: 233.7388\n",
      "Epoch 5/100\n",
      "240/240 [==============================] - 0s 673us/step - loss: 228.0509\n",
      "Epoch 6/100\n",
      "240/240 [==============================] - 0s 656us/step - loss: 221.7573\n",
      "Epoch 7/100\n",
      "240/240 [==============================] - 0s 677us/step - loss: 214.7985\n",
      "Epoch 8/100\n",
      "240/240 [==============================] - 0s 682us/step - loss: 206.9443\n",
      "Epoch 9/100\n",
      "240/240 [==============================] - 0s 665us/step - loss: 198.5191\n",
      "Epoch 10/100\n",
      "240/240 [==============================] - 0s 665us/step - loss: 188.8369\n",
      "Epoch 11/100\n",
      "240/240 [==============================] - 0s 666us/step - loss: 178.8385\n",
      "Epoch 12/100\n",
      "240/240 [==============================] - 0s 653us/step - loss: 168.0899\n",
      "Epoch 13/100\n",
      "240/240 [==============================] - 0s 661us/step - loss: 156.6231\n",
      "Epoch 14/100\n",
      "240/240 [==============================] - 0s 670us/step - loss: 144.9422\n",
      "Epoch 15/100\n",
      "240/240 [==============================] - 0s 680us/step - loss: 132.9552\n",
      "Epoch 16/100\n",
      "240/240 [==============================] - 0s 668us/step - loss: 120.7406\n",
      "Epoch 17/100\n",
      "240/240 [==============================] - 0s 659us/step - loss: 108.7190\n",
      "Epoch 18/100\n",
      "240/240 [==============================] - 0s 667us/step - loss: 97.1584\n",
      "Epoch 19/100\n",
      "240/240 [==============================] - 0s 670us/step - loss: 86.0935\n",
      "Epoch 20/100\n",
      "240/240 [==============================] - 0s 666us/step - loss: 75.9519\n",
      "Epoch 21/100\n",
      "240/240 [==============================] - 0s 675us/step - loss: 66.9364\n",
      "Epoch 22/100\n",
      "240/240 [==============================] - 0s 700us/step - loss: 59.3515\n",
      "Epoch 23/100\n",
      "240/240 [==============================] - 0s 691us/step - loss: 48.3922\n",
      "Epoch 24/100\n",
      "240/240 [==============================] - 0s 669us/step - loss: 40.3751\n",
      "Epoch 25/100\n",
      "240/240 [==============================] - 0s 677us/step - loss: 39.3324\n",
      "Epoch 26/100\n",
      "240/240 [==============================] - 0s 667us/step - loss: 38.7737\n",
      "Epoch 27/100\n",
      "240/240 [==============================] - 0s 672us/step - loss: 38.2107\n",
      "Epoch 28/100\n",
      "240/240 [==============================] - 0s 665us/step - loss: 37.4859\n",
      "Epoch 29/100\n",
      "240/240 [==============================] - 0s 659us/step - loss: 37.1302\n",
      "Epoch 30/100\n",
      "240/240 [==============================] - 0s 670us/step - loss: 36.5078\n",
      "Epoch 31/100\n",
      "240/240 [==============================] - 0s 693us/step - loss: 35.5949\n",
      "Epoch 32/100\n",
      "240/240 [==============================] - 0s 678us/step - loss: 34.7466\n",
      "Epoch 33/100\n",
      "240/240 [==============================] - 0s 665us/step - loss: 34.4860\n",
      "Epoch 34/100\n",
      "240/240 [==============================] - 0s 666us/step - loss: 34.2429\n",
      "Epoch 35/100\n",
      "240/240 [==============================] - 0s 663us/step - loss: 33.2001\n",
      "Epoch 36/100\n",
      "240/240 [==============================] - 0s 686us/step - loss: 32.2979\n",
      "Epoch 37/100\n",
      "240/240 [==============================] - 0s 666us/step - loss: 32.0300\n",
      "Epoch 38/100\n",
      "240/240 [==============================] - 0s 666us/step - loss: 31.9441\n",
      "Epoch 39/100\n",
      "240/240 [==============================] - 0s 693us/step - loss: 31.4634\n",
      "Epoch 40/100\n",
      "240/240 [==============================] - 0s 682us/step - loss: 30.7093\n",
      "Epoch 41/100\n",
      "240/240 [==============================] - 0s 667us/step - loss: 30.2137\n",
      "Epoch 42/100\n",
      "240/240 [==============================] - 0s 690us/step - loss: 29.6796\n",
      "Epoch 43/100\n",
      "240/240 [==============================] - 0s 702us/step - loss: 29.5009\n",
      "Epoch 44/100\n",
      "240/240 [==============================] - 0s 674us/step - loss: 29.2352\n",
      "Epoch 45/100\n",
      "240/240 [==============================] - 0s 661us/step - loss: 28.9909\n",
      "Epoch 46/100\n",
      "240/240 [==============================] - 0s 697us/step - loss: 28.0623\n",
      "Epoch 47/100\n",
      "240/240 [==============================] - 0s 695us/step - loss: 28.3044\n",
      "Epoch 48/100\n",
      "240/240 [==============================] - 0s 659us/step - loss: 28.6047\n",
      "Epoch 49/100\n",
      "240/240 [==============================] - 0s 672us/step - loss: 27.7780\n",
      "Epoch 50/100\n",
      "240/240 [==============================] - 0s 701us/step - loss: 27.1429\n",
      "Epoch 51/100\n",
      "240/240 [==============================] - 0s 654us/step - loss: 27.6809\n",
      "Epoch 52/100\n",
      "240/240 [==============================] - 0s 674us/step - loss: 26.4988\n",
      "Epoch 53/100\n",
      "240/240 [==============================] - 0s 678us/step - loss: 26.5010\n",
      "Epoch 54/100\n",
      "240/240 [==============================] - 0s 650us/step - loss: 27.4638\n",
      "Epoch 55/100\n",
      "240/240 [==============================] - 0s 649us/step - loss: 26.6957\n",
      "Epoch 56/100\n",
      "240/240 [==============================] - 0s 648us/step - loss: 26.0151\n",
      "Epoch 57/100\n",
      "240/240 [==============================] - 0s 659us/step - loss: 25.8403\n",
      "Epoch 58/100\n",
      "240/240 [==============================] - 0s 678us/step - loss: 25.7540\n",
      "Epoch 59/100\n",
      "240/240 [==============================] - 0s 674us/step - loss: 26.0090\n",
      "Epoch 60/100\n",
      "240/240 [==============================] - 0s 650us/step - loss: 26.1155\n",
      "Epoch 61/100\n",
      "240/240 [==============================] - 0s 659us/step - loss: 27.3887\n",
      "Epoch 62/100\n",
      "240/240 [==============================] - 0s 647us/step - loss: 26.3388\n",
      "Epoch 63/100\n",
      "240/240 [==============================] - 0s 676us/step - loss: 24.8203\n",
      "Epoch 64/100\n",
      "240/240 [==============================] - 0s 692us/step - loss: 25.3468\n",
      "Epoch 65/100\n",
      "240/240 [==============================] - 0s 678us/step - loss: 25.7219\n",
      "Epoch 66/100\n",
      "240/240 [==============================] - 0s 656us/step - loss: 24.5730\n",
      "Epoch 67/100\n",
      "240/240 [==============================] - 0s 670us/step - loss: 24.9183\n",
      "Epoch 68/100\n",
      "240/240 [==============================] - 0s 697us/step - loss: 24.5877\n",
      "Epoch 69/100\n",
      "240/240 [==============================] - 0s 675us/step - loss: 26.0466\n",
      "Epoch 70/100\n",
      "240/240 [==============================] - 0s 662us/step - loss: 24.6484\n",
      "Epoch 71/100\n",
      "240/240 [==============================] - 0s 663us/step - loss: 25.4688\n",
      "Epoch 72/100\n",
      "240/240 [==============================] - 0s 650us/step - loss: 25.8746\n",
      "Epoch 73/100\n",
      "240/240 [==============================] - 0s 698us/step - loss: 24.7731\n",
      "Epoch 74/100\n",
      "240/240 [==============================] - 0s 673us/step - loss: 24.6483\n",
      "Epoch 75/100\n",
      "240/240 [==============================] - 0s 676us/step - loss: 25.1039\n",
      "Epoch 76/100\n",
      "240/240 [==============================] - 0s 657us/step - loss: 24.9559\n",
      "Epoch 77/100\n",
      "240/240 [==============================] - 0s 662us/step - loss: 24.6635\n",
      "Epoch 78/100\n",
      "240/240 [==============================] - 0s 653us/step - loss: 25.1636\n",
      "Epoch 79/100\n",
      "240/240 [==============================] - 0s 677us/step - loss: 25.0435\n",
      "Epoch 80/100\n",
      "240/240 [==============================] - 0s 671us/step - loss: 25.0960\n",
      "Epoch 81/100\n",
      "240/240 [==============================] - 0s 659us/step - loss: 25.1567\n",
      "Epoch 82/100\n",
      "240/240 [==============================] - 0s 649us/step - loss: 25.2361\n",
      "Epoch 83/100\n",
      "240/240 [==============================] - 0s 663us/step - loss: 24.7164\n",
      "Epoch 84/100\n",
      "240/240 [==============================] - 0s 652us/step - loss: 25.5664\n",
      "Epoch 85/100\n",
      "240/240 [==============================] - 0s 662us/step - loss: 24.5880\n",
      "Epoch 86/100\n",
      "240/240 [==============================] - 0s 706us/step - loss: 25.2036\n",
      "Epoch 87/100\n",
      "240/240 [==============================] - 0s 661us/step - loss: 24.2403\n",
      "Epoch 88/100\n",
      "240/240 [==============================] - 0s 655us/step - loss: 25.1585\n",
      "Epoch 89/100\n",
      "240/240 [==============================] - 0s 657us/step - loss: 25.2142\n",
      "Epoch 90/100\n",
      "240/240 [==============================] - 0s 647us/step - loss: 24.7415\n",
      "Epoch 91/100\n",
      "240/240 [==============================] - 0s 656us/step - loss: 25.0798\n",
      "Epoch 92/100\n",
      "240/240 [==============================] - 0s 642us/step - loss: 25.1492\n",
      "Epoch 93/100\n",
      "240/240 [==============================] - 0s 660us/step - loss: 25.2943\n",
      "Epoch 94/100\n",
      "240/240 [==============================] - 0s 672us/step - loss: 25.3653\n",
      "Epoch 95/100\n",
      "240/240 [==============================] - 0s 677us/step - loss: 24.7681\n",
      "Epoch 96/100\n"
     ]
    },
    {
     "name": "stdout",
     "output_type": "stream",
     "text": [
      "240/240 [==============================] - 0s 683us/step - loss: 24.7412\n",
      "Epoch 97/100\n",
      "240/240 [==============================] - 0s 660us/step - loss: 24.3870\n",
      "Epoch 98/100\n",
      "240/240 [==============================] - 0s 662us/step - loss: 24.9346\n",
      "Epoch 99/100\n",
      "240/240 [==============================] - 0s 657us/step - loss: 24.8433\n",
      "Epoch 100/100\n",
      "240/240 [==============================] - 0s 663us/step - loss: 24.8760\n"
     ]
    },
    {
     "data": {
      "text/plain": [
       "<keras.src.callbacks.History at 0x7f416475d940>"
      ]
     },
     "execution_count": 13,
     "metadata": {},
     "output_type": "execute_result"
    }
   ],
   "source": [
    "ann.fit(X_train, y_train, batch_size = 32, epochs = 100)"
   ]
  },
  {
   "cell_type": "markdown",
   "metadata": {
    "colab_type": "text",
    "id": "0H0zKKNEBLD5"
   },
   "source": [
    "### Predicting the results of the Test set"
   ]
  },
  {
   "cell_type": "code",
   "execution_count": 14,
   "metadata": {},
   "outputs": [
    {
     "name": "stdout",
     "output_type": "stream",
     "text": [
      "60/60 [==============================] - 0s 534us/step\n"
     ]
    }
   ],
   "source": [
    "y_pred = ann.predict(X_test)"
   ]
  },
  {
   "cell_type": "code",
   "execution_count": 15,
   "metadata": {},
   "outputs": [
    {
     "name": "stdout",
     "output_type": "stream",
     "text": [
      "[[433.9  431.23]\n",
      " [462.   460.01]\n",
      " [467.23 461.14]\n",
      " ...\n",
      " [473.99 473.26]\n",
      " [439.76 438.  ]\n",
      " [459.49 463.28]]\n"
     ]
    }
   ],
   "source": [
    "np.set_printoptions(precision=2)\n",
    "print(np.concatenate((y_pred.reshape(len(y_pred),1) , y_test.reshape(len(y_test),1)), 1))"
   ]
  },
  {
   "cell_type": "markdown",
   "metadata": {},
   "source": [
    "Predictions within <1% of actual output"
   ]
  }
 ],
 "metadata": {
  "colab": {
   "collapsed_sections": [],
   "name": "Artificial Neural Network",
   "provenance": [],
   "toc_visible": true
  },
  "kernelspec": {
   "display_name": "Python 3 (ipykernel)",
   "language": "python",
   "name": "python3"
  },
  "language_info": {
   "codemirror_mode": {
    "name": "ipython",
    "version": 3
   },
   "file_extension": ".py",
   "mimetype": "text/x-python",
   "name": "python",
   "nbconvert_exporter": "python",
   "pygments_lexer": "ipython3",
   "version": "3.8.18"
  }
 },
 "nbformat": 4,
 "nbformat_minor": 1
}
