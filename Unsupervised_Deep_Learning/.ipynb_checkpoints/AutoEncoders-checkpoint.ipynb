{
 "cells": [
  {
   "cell_type": "markdown",
   "metadata": {
    "colab_type": "text",
    "id": "K4f4JG1gdKqj"
   },
   "source": [
    "# AutoEncoders"
   ]
  },
  {
   "cell_type": "markdown",
   "metadata": {},
   "source": [
    "AutoEncoder to predit the rating a user will give a movie"
   ]
  },
  {
   "cell_type": "markdown",
   "metadata": {
    "colab_type": "text",
    "id": "1jbiqOK7dLGG"
   },
   "source": [
    "## Downloading the dataset"
   ]
  },
  {
   "cell_type": "code",
   "execution_count": 1,
   "metadata": {
    "colab": {
     "base_uri": "https://localhost:8080/",
     "height": 646
    },
    "colab_type": "code",
    "id": "rjOPzue7FCXJ",
    "outputId": "b0f0b631-51bf-49e8-9ad6-947a0bd3d832"
   },
   "outputs": [
    {
     "name": "stdout",
     "output_type": "stream",
     "text": [
      "--2024-02-09 14:12:07--  http://files.grouplens.org/datasets/movielens/ml-100k.zip\n",
      "Resolving files.grouplens.org (files.grouplens.org)... 128.101.65.152\n",
      "Connecting to files.grouplens.org (files.grouplens.org)|128.101.65.152|:80... connected.\n",
      "HTTP request sent, awaiting response... 200 OK\n",
      "Length: 4924029 (4.7M) [application/zip]\n",
      "Saving to: ‘ml-100k.zip’\n",
      "\n",
      "ml-100k.zip         100%[===================>]   4.70M  1.67MB/s    in 2.8s    \n",
      "\n",
      "2024-02-09 14:12:10 (1.67 MB/s) - ‘ml-100k.zip’ saved [4924029/4924029]\n",
      "\n",
      "Archive:  ml-100k.zip\n",
      "   creating: ml-100k/\n",
      "  inflating: ml-100k/allbut.pl       \n",
      "  inflating: ml-100k/mku.sh          \n",
      "  inflating: ml-100k/README          \n",
      "  inflating: ml-100k/u.data          \n",
      "  inflating: ml-100k/u.genre         \n",
      "  inflating: ml-100k/u.info          \n",
      "  inflating: ml-100k/u.item          \n",
      "  inflating: ml-100k/u.occupation    \n",
      "  inflating: ml-100k/u.user          \n",
      "  inflating: ml-100k/u1.base         \n",
      "  inflating: ml-100k/u1.test         \n",
      "  inflating: ml-100k/u2.base         \n",
      "  inflating: ml-100k/u2.test         \n",
      "  inflating: ml-100k/u3.base         \n",
      "  inflating: ml-100k/u3.test         \n",
      "  inflating: ml-100k/u4.base         \n",
      "  inflating: ml-100k/u4.test         \n",
      "  inflating: ml-100k/u5.base         \n",
      "  inflating: ml-100k/u5.test         \n",
      "  inflating: ml-100k/ua.base         \n",
      "  inflating: ml-100k/ua.test         \n",
      "  inflating: ml-100k/ub.base         \n",
      "  inflating: ml-100k/ub.test         \n",
      " AutoEncoders.ipynb\t   ml-100k\t\t      'SOM_and _ANN.ipynb'\n",
      " Boltzmann_Machine.ipynb   ml-100k.zip\n",
      " Data\t\t\t   Self_Organising_Map.ipynb\n"
     ]
    }
   ],
   "source": [
    "!wget \"http://files.grouplens.org/datasets/movielens/ml-100k.zip\"\n",
    "!unzip ml-100k.zip\n",
    "!ls"
   ]
  },
  {
   "cell_type": "markdown",
   "metadata": {
    "colab_type": "text",
    "id": "EOBJ8UCXdY0g"
   },
   "source": [
    "## Importing the libraries"
   ]
  },
  {
   "cell_type": "code",
   "execution_count": 2,
   "metadata": {
    "colab": {},
    "colab_type": "code",
    "id": "_LvGeU1CeCtg"
   },
   "outputs": [],
   "source": [
    "import numpy as np\n",
    "import pandas as pd\n",
    "import torch\n",
    "import torch.nn as nn\n",
    "import torch.nn.parallel\n",
    "import torch.optim as optim\n",
    "import torch.utils.data\n",
    "from torch.autograd import Variable"
   ]
  },
  {
   "cell_type": "markdown",
   "metadata": {
    "colab_type": "text",
    "id": "yTIbE2tkdkwP"
   },
   "source": [
    "## Preparing the training set and the test set\n"
   ]
  },
  {
   "cell_type": "code",
   "execution_count": 3,
   "metadata": {
    "colab": {},
    "colab_type": "code",
    "id": "2usLKJBEgPE2"
   },
   "outputs": [],
   "source": [
    "training_set = pd.read_csv('ml-100k/u1.base', delimiter = '\\t')\n",
    "training_set = np.array(training_set, dtype = 'int')\n",
    "test_set = pd.read_csv('ml-100k/u1.test', delimiter = '\\t')\n",
    "test_set = np.array(test_set, dtype = 'int')"
   ]
  },
  {
   "cell_type": "markdown",
   "metadata": {
    "colab_type": "text",
    "id": "zCf8HjSydk4s"
   },
   "source": [
    "## Getting the number of users and movies\n"
   ]
  },
  {
   "cell_type": "code",
   "execution_count": 4,
   "metadata": {
    "colab": {},
    "colab_type": "code",
    "id": "gPaGZqdniC5m"
   },
   "outputs": [],
   "source": [
    "nb_users = int(max(max(training_set[:, 0], ), max(test_set[:, 0])))\n",
    "nb_movies = int(max(max(training_set[:, 1], ), max(test_set[:, 1])))"
   ]
  },
  {
   "cell_type": "markdown",
   "metadata": {
    "colab_type": "text",
    "id": "J-w4-hVidlAm"
   },
   "source": [
    "## Converting the data into an array with users in lines and movies in columns\n"
   ]
  },
  {
   "cell_type": "code",
   "execution_count": 5,
   "metadata": {
    "colab": {},
    "colab_type": "code",
    "id": "-wASs2YFiDaa"
   },
   "outputs": [],
   "source": [
    "def convert(data):\n",
    "  new_data = []\n",
    "  for id_users in range(1, nb_users + 1):\n",
    "    id_movies = data[:, 1] [data[:, 0] == id_users]\n",
    "    id_ratings = data[:, 2] [data[:, 0] == id_users]\n",
    "    ratings = np.zeros(nb_movies)\n",
    "    ratings[id_movies - 1] = id_ratings\n",
    "    new_data.append(list(ratings))\n",
    "  return new_data\n",
    "training_set = convert(training_set)\n",
    "test_set = convert(test_set)"
   ]
  },
  {
   "cell_type": "markdown",
   "metadata": {
    "colab_type": "text",
    "id": "AMmhuUpldlHo"
   },
   "source": [
    "## Converting the data into Torch tensors\n"
   ]
  },
  {
   "cell_type": "code",
   "execution_count": 6,
   "metadata": {
    "colab": {},
    "colab_type": "code",
    "id": "TwD-KD8yiEEw"
   },
   "outputs": [],
   "source": [
    "training_set = torch.FloatTensor(training_set)\n",
    "test_set = torch.FloatTensor(test_set)"
   ]
  },
  {
   "cell_type": "markdown",
   "metadata": {
    "colab_type": "text",
    "id": "6kkL8NkkdlZj"
   },
   "source": [
    "## Creating the architecture of the Neural Network\n"
   ]
  },
  {
   "cell_type": "code",
   "execution_count": 7,
   "metadata": {
    "colab": {},
    "colab_type": "code",
    "id": "oU2nyh76iE6M"
   },
   "outputs": [],
   "source": [
    "class SAE(nn.Module):\n",
    "    def __init__(self, ):\n",
    "        super(SAE, self).__init__()\n",
    "        self.fc1 = nn.Linear(nb_movies, 20)\n",
    "        self.fc2 = nn.Linear(20, 10)\n",
    "        self.fc3 = nn.Linear(10, 20)\n",
    "        self.fc4 = nn.Linear(20, nb_movies)\n",
    "        self.activation = nn.Sigmoid()\n",
    "    def forward(self, x):\n",
    "        x = self.activation(self.fc1(x))\n",
    "        x = self.activation(self.fc2(x))\n",
    "        x = self.activation(self.fc3(x))\n",
    "        x = self.fc4(x)\n",
    "        return x\n",
    "sae = SAE()\n",
    "criterion = nn.MSELoss()\n",
    "optimizer = optim.RMSprop(sae.parameters(), lr = 0.01, weight_decay = 0.5)"
   ]
  },
  {
   "cell_type": "markdown",
   "metadata": {
    "colab_type": "text",
    "id": "7gy59alAdloL"
   },
   "source": [
    "## Training the SAE\n"
   ]
  },
  {
   "cell_type": "code",
   "execution_count": 8,
   "metadata": {
    "colab": {
     "base_uri": "https://localhost:8080/",
     "height": 1000
    },
    "colab_type": "code",
    "id": "FEz9hRaciFTs",
    "outputId": "0f6ed0d0-09c4-46c0-bfe6-70031d76b491"
   },
   "outputs": [
    {
     "name": "stdout",
     "output_type": "stream",
     "text": [
      "epoch: 1loss: tensor(1.7723)\n",
      "epoch: 2loss: tensor(1.0967)\n",
      "epoch: 3loss: tensor(1.0537)\n",
      "epoch: 4loss: tensor(1.0384)\n",
      "epoch: 5loss: tensor(1.0308)\n",
      "epoch: 6loss: tensor(1.0267)\n",
      "epoch: 7loss: tensor(1.0235)\n",
      "epoch: 8loss: tensor(1.0220)\n",
      "epoch: 9loss: tensor(1.0208)\n",
      "epoch: 10loss: tensor(1.0196)\n",
      "epoch: 11loss: tensor(1.0186)\n",
      "epoch: 12loss: tensor(1.0185)\n",
      "epoch: 13loss: tensor(1.0179)\n",
      "epoch: 14loss: tensor(1.0176)\n",
      "epoch: 15loss: tensor(1.0170)\n",
      "epoch: 16loss: tensor(1.0168)\n",
      "epoch: 17loss: tensor(1.0168)\n",
      "epoch: 18loss: tensor(1.0165)\n",
      "epoch: 19loss: tensor(1.0162)\n",
      "epoch: 20loss: tensor(1.0163)\n",
      "epoch: 21loss: tensor(1.0157)\n",
      "epoch: 22loss: tensor(1.0159)\n",
      "epoch: 23loss: tensor(1.0159)\n",
      "epoch: 24loss: tensor(1.0156)\n",
      "epoch: 25loss: tensor(1.0157)\n",
      "epoch: 26loss: tensor(1.0152)\n",
      "epoch: 27loss: tensor(1.0152)\n",
      "epoch: 28loss: tensor(1.0150)\n",
      "epoch: 29loss: tensor(1.0140)\n",
      "epoch: 30loss: tensor(1.0125)\n",
      "epoch: 31loss: tensor(1.0101)\n",
      "epoch: 32loss: tensor(1.0090)\n",
      "epoch: 33loss: tensor(1.0063)\n",
      "epoch: 34loss: tensor(1.0052)\n",
      "epoch: 35loss: tensor(1.0021)\n",
      "epoch: 36loss: tensor(1.0019)\n",
      "epoch: 37loss: tensor(0.9978)\n",
      "epoch: 38loss: tensor(0.9967)\n",
      "epoch: 39loss: tensor(0.9953)\n",
      "epoch: 40loss: tensor(0.9940)\n",
      "epoch: 41loss: tensor(0.9905)\n",
      "epoch: 42loss: tensor(0.9906)\n",
      "epoch: 43loss: tensor(0.9858)\n",
      "epoch: 44loss: tensor(0.9859)\n",
      "epoch: 45loss: tensor(0.9852)\n",
      "epoch: 46loss: tensor(0.9863)\n",
      "epoch: 47loss: tensor(0.9840)\n",
      "epoch: 48loss: tensor(0.9841)\n",
      "epoch: 49loss: tensor(0.9806)\n",
      "epoch: 50loss: tensor(0.9778)\n",
      "epoch: 51loss: tensor(0.9739)\n",
      "epoch: 52loss: tensor(0.9709)\n",
      "epoch: 53loss: tensor(0.9712)\n",
      "epoch: 54loss: tensor(0.9729)\n",
      "epoch: 55loss: tensor(0.9718)\n",
      "epoch: 56loss: tensor(0.9719)\n",
      "epoch: 57loss: tensor(0.9739)\n",
      "epoch: 58loss: tensor(0.9772)\n",
      "epoch: 59loss: tensor(0.9795)\n",
      "epoch: 60loss: tensor(0.9758)\n",
      "epoch: 61loss: tensor(0.9710)\n",
      "epoch: 62loss: tensor(0.9672)\n",
      "epoch: 63loss: tensor(0.9663)\n",
      "epoch: 64loss: tensor(0.9648)\n",
      "epoch: 65loss: tensor(0.9592)\n",
      "epoch: 66loss: tensor(0.9632)\n",
      "epoch: 67loss: tensor(0.9613)\n",
      "epoch: 68loss: tensor(0.9592)\n",
      "epoch: 69loss: tensor(0.9608)\n",
      "epoch: 70loss: tensor(0.9598)\n",
      "epoch: 71loss: tensor(0.9598)\n",
      "epoch: 72loss: tensor(0.9548)\n",
      "epoch: 73loss: tensor(0.9511)\n",
      "epoch: 74loss: tensor(0.9519)\n",
      "epoch: 75loss: tensor(0.9482)\n",
      "epoch: 76loss: tensor(0.9513)\n",
      "epoch: 77loss: tensor(0.9485)\n",
      "epoch: 78loss: tensor(0.9484)\n",
      "epoch: 79loss: tensor(0.9455)\n",
      "epoch: 80loss: tensor(0.9491)\n",
      "epoch: 81loss: tensor(0.9478)\n",
      "epoch: 82loss: tensor(0.9457)\n",
      "epoch: 83loss: tensor(0.9444)\n",
      "epoch: 84loss: tensor(0.9461)\n",
      "epoch: 85loss: tensor(0.9457)\n",
      "epoch: 86loss: tensor(0.9452)\n",
      "epoch: 87loss: tensor(0.9428)\n",
      "epoch: 88loss: tensor(0.9427)\n",
      "epoch: 89loss: tensor(0.9423)\n",
      "epoch: 90loss: tensor(0.9422)\n",
      "epoch: 91loss: tensor(0.9408)\n",
      "epoch: 92loss: tensor(0.9428)\n",
      "epoch: 93loss: tensor(0.9399)\n",
      "epoch: 94loss: tensor(0.9451)\n",
      "epoch: 95loss: tensor(0.9448)\n",
      "epoch: 96loss: tensor(0.9445)\n",
      "epoch: 97loss: tensor(0.9413)\n",
      "epoch: 98loss: tensor(0.9438)\n",
      "epoch: 99loss: tensor(0.9415)\n",
      "epoch: 100loss: tensor(0.9428)\n",
      "epoch: 101loss: tensor(0.9401)\n",
      "epoch: 102loss: tensor(0.9406)\n",
      "epoch: 103loss: tensor(0.9380)\n",
      "epoch: 104loss: tensor(0.9381)\n",
      "epoch: 105loss: tensor(0.9367)\n",
      "epoch: 106loss: tensor(0.9373)\n",
      "epoch: 107loss: tensor(0.9357)\n",
      "epoch: 108loss: tensor(0.9369)\n",
      "epoch: 109loss: tensor(0.9353)\n",
      "epoch: 110loss: tensor(0.9368)\n",
      "epoch: 111loss: tensor(0.9348)\n",
      "epoch: 112loss: tensor(0.9352)\n",
      "epoch: 113loss: tensor(0.9398)\n",
      "epoch: 114loss: tensor(0.9365)\n",
      "epoch: 115loss: tensor(0.9331)\n",
      "epoch: 116loss: tensor(0.9327)\n",
      "epoch: 117loss: tensor(0.9312)\n",
      "epoch: 118loss: tensor(0.9323)\n",
      "epoch: 119loss: tensor(0.9304)\n",
      "epoch: 120loss: tensor(0.9312)\n",
      "epoch: 121loss: tensor(0.9311)\n",
      "epoch: 122loss: tensor(0.9324)\n",
      "epoch: 123loss: tensor(0.9296)\n",
      "epoch: 124loss: tensor(0.9305)\n",
      "epoch: 125loss: tensor(0.9302)\n",
      "epoch: 126loss: tensor(0.9297)\n",
      "epoch: 127loss: tensor(0.9297)\n",
      "epoch: 128loss: tensor(0.9293)\n",
      "epoch: 129loss: tensor(0.9283)\n",
      "epoch: 130loss: tensor(0.9292)\n",
      "epoch: 131loss: tensor(0.9281)\n",
      "epoch: 132loss: tensor(0.9284)\n",
      "epoch: 133loss: tensor(0.9276)\n",
      "epoch: 134loss: tensor(0.9292)\n",
      "epoch: 135loss: tensor(0.9266)\n",
      "epoch: 136loss: tensor(0.9278)\n",
      "epoch: 137loss: tensor(0.9272)\n",
      "epoch: 138loss: tensor(0.9275)\n",
      "epoch: 139loss: tensor(0.9249)\n",
      "epoch: 140loss: tensor(0.9263)\n",
      "epoch: 141loss: tensor(0.9254)\n",
      "epoch: 142loss: tensor(0.9263)\n",
      "epoch: 143loss: tensor(0.9252)\n",
      "epoch: 144loss: tensor(0.9259)\n",
      "epoch: 145loss: tensor(0.9240)\n",
      "epoch: 146loss: tensor(0.9249)\n",
      "epoch: 147loss: tensor(0.9229)\n",
      "epoch: 148loss: tensor(0.9240)\n",
      "epoch: 149loss: tensor(0.9224)\n",
      "epoch: 150loss: tensor(0.9236)\n"
     ]
    }
   ],
   "source": [
    "nb_epoch = 150\n",
    "for epoch in range(1, nb_epoch + 1):\n",
    "  train_loss = 0\n",
    "  s = 0.\n",
    "  for id_user in range(nb_users):\n",
    "    input = Variable(training_set[id_user]).unsqueeze(0)\n",
    "    target = input.clone()\n",
    "    if torch.sum(target.data > 0) > 0:\n",
    "      output = sae(input)\n",
    "      target.require_grad = False\n",
    "      output[target == 0] = 0\n",
    "      loss = criterion(output, target)\n",
    "      mean_corrector = nb_movies/float(torch.sum(target.data > 0) + 1e-10)\n",
    "      loss.backward()\n",
    "      train_loss += np.sqrt(loss.data*mean_corrector)\n",
    "      s += 1.\n",
    "      optimizer.step()\n",
    "  print('epoch: '+str(epoch)+'loss: '+ str(train_loss/s))"
   ]
  },
  {
   "cell_type": "markdown",
   "metadata": {
    "colab_type": "text",
    "id": "Bak5uc8gd-gX"
   },
   "source": [
    "## Testing the SAE\n"
   ]
  },
  {
   "cell_type": "code",
   "execution_count": 9,
   "metadata": {
    "colab": {
     "base_uri": "https://localhost:8080/",
     "height": 34
    },
    "colab_type": "code",
    "id": "5ztvzYRtiGCz",
    "outputId": "d0e8ea8b-9ac4-40e5-a19a-7fcfc6934d61"
   },
   "outputs": [
    {
     "name": "stdout",
     "output_type": "stream",
     "text": [
      "test loss: tensor(0.9580)\n"
     ]
    }
   ],
   "source": [
    "test_loss = 0\n",
    "s = 0.\n",
    "for id_user in range(nb_users):\n",
    "  input = Variable(training_set[id_user]).unsqueeze(0)\n",
    "  target = Variable(test_set[id_user]).unsqueeze(0)\n",
    "  if torch.sum(target.data > 0) > 0:\n",
    "    output = sae(input)\n",
    "    target.require_grad = False\n",
    "    output[target == 0] = 0\n",
    "    loss = criterion(output, target)\n",
    "    mean_corrector = nb_movies/float(torch.sum(target.data > 0) + 1e-10)\n",
    "    test_loss += np.sqrt(loss.data*mean_corrector)\n",
    "    s += 1.\n",
    "print('test loss: '+str(test_loss/s))"
   ]
  },
  {
   "cell_type": "code",
   "execution_count": 10,
   "metadata": {},
   "outputs": [
    {
     "name": "stdout",
     "output_type": "stream",
     "text": [
      "3.3185978\n"
     ]
    }
   ],
   "source": [
    "target_user_id = 10\n",
    "target_movie_id = 290\n",
    "input = Variable(training_set[target_user_id-1]).unsqueeze(0)\n",
    "output = sae(input)\n",
    "output_numpy = output.data.numpy()\n",
    "print (''+ str(output_numpy[0,target_movie_id-1]))"
   ]
  },
  {
   "cell_type": "code",
   "execution_count": null,
   "metadata": {},
   "outputs": [],
   "source": []
  }
 ],
 "metadata": {
  "accelerator": "GPU",
  "colab": {
   "collapsed_sections": [],
   "name": "AutoEncoders.ipynb",
   "provenance": [],
   "toc_visible": true
  },
  "kernelspec": {
   "display_name": "Python 3 (ipykernel)",
   "language": "python",
   "name": "python3"
  },
  "language_info": {
   "codemirror_mode": {
    "name": "ipython",
    "version": 3
   },
   "file_extension": ".py",
   "mimetype": "text/x-python",
   "name": "python",
   "nbconvert_exporter": "python",
   "pygments_lexer": "ipython3",
   "version": "3.8.18"
  }
 },
 "nbformat": 4,
 "nbformat_minor": 1
}
